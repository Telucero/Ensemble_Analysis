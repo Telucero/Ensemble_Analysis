{
 "cells": [
  {
   "cell_type": "markdown",
   "id": "4b12884f-a410-4b1b-8372-c4694f36cbe7",
   "metadata": {},
   "source": [
    "# LDA\n",
    "Linear Discriminant Analysis (LDA) is a dimensionality reduction and classification technique commonly used in machine learning and statistics. It aims to find the linear combinations of features that best separate multiple classes in a dataset.\n",
    "\n",
    "The key idea behind LDA is to project the original high-dimensional data onto a lower-dimensional subspace while preserving the class-discriminatory information as much as possible. It works by maximizing the separability between different classes while minimizing the variance within each class.\n",
    "\n",
    "Here's how LDA works:\n",
    "\n",
    "Compute Class Means: For each class in the dataset, calculate the mean vector of the feature values. These mean vectors represent the centroid of each class.\n",
    "\n",
    "Compute Within-Class Scatter Matrix (Sw): This matrix measures the spread of data points within each class. It is computed by summing up the covariance matrices of each class after normalization by their respective class sample size.\n",
    "\n",
    "Compute Between-Class Scatter Matrix (Sb): This matrix quantifies the difference between the mean vectors of different classes. It is computed by summing up the covariance matrices of each class after multiplication by their respective class sample size, and then dividing by the total number of samples.\n",
    "\n",
    "Compute Eigenvalues and Eigenvectors: Calculate the eigenvectors and eigenvalues of the matrix (Sw^-1) * Sb. The eigenvectors represent the directions (or axes) along which the data should be projected, and the eigenvalues represent the magnitude of the variance along these directions.\n",
    "\n",
    "Select Projection Vectors: Sort the eigenvectors in descending order of their corresponding eigenvalues. Choose the top k eigenvectors (where k is the desired dimensionality of the new feature subspace) as the projection vectors.\n",
    "\n",
    "Project Data onto New Feature Subspace: Project the original data onto the new feature subspace defined by the selected eigenvectors. This is done by taking the dot product of the original data matrix and the matrix composed of the selected eigenvectors.\n",
    "\n",
    "By transforming the original feature space into this lower-dimensional subspace, LDA effectively reduces the dimensionality of the data while preserving the class-discriminatory information. "
   ]
  },
  {
   "cell_type": "markdown",
   "id": "0bc420f0-6608-4542-9856-3e338d7cdc3d",
   "metadata": {},
   "source": [
    "The original models testing scores:\n",
    "\n",
    "SimpleNN:\n",
    "Accuracy: 0.6667\n",
    "Precision: 0.5000\n",
    "Recall: 0.7500\n",
    "\n",
    "XGBoost:\n",
    "Accuracy: 0.7500\n",
    "T Precision: 1.0000\n",
    "Test Recall: 0.2500\n",
    "\n",
    "SVC: \n",
    "Accuracy: 0.7500\n",
    "Precision: 1.0000\n",
    "Recall: 0.2500\n"
   ]
  },
  {
   "cell_type": "markdown",
   "id": "75a10f2a-60d9-4cef-847b-9c2cefb2554b",
   "metadata": {},
   "source": [
    "This script applies LDA dimension reduction to the original dataset and applies it through the three models, "
   ]
  },
  {
   "cell_type": "code",
   "execution_count": 3,
   "id": "1c09c8ec-a171-4947-a5ff-5540f7e56f5e",
   "metadata": {
    "tags": []
   },
   "outputs": [
    {
     "name": "stdout",
     "output_type": "stream",
     "text": [
      "Class distribution:\n",
      "0    203\n",
      "1     96\n",
      "Name: DEATH_EVENT, dtype: int64\n"
     ]
    },
    {
     "data": {
      "application/vnd.jupyter.widget-view+json": {
       "model_id": "39beefb1aa4e45f2a581c28622207fb6",
       "version_major": 2,
       "version_minor": 0
      },
      "text/plain": [
       "Training Epoch 1:   0%|          | 0/5 [00:00<?, ?it/s]"
      ]
     },
     "metadata": {},
     "output_type": "display_data"
    },
    {
     "name": "stdout",
     "output_type": "stream",
     "text": [
      "Training Epoch 1, Loss: 1.6811591386795044, Accuracy: 41.66666666666667%\n"
     ]
    },
    {
     "data": {
      "application/vnd.jupyter.widget-view+json": {
       "model_id": "3af4429d5d0f49568c216ce1c118c09c",
       "version_major": 2,
       "version_minor": 0
      },
      "text/plain": [
       "Validation:   0%|          | 0/2 [00:00<?, ?it/s]"
      ]
     },
     "metadata": {},
     "output_type": "display_data"
    },
    {
     "name": "stdout",
     "output_type": "stream",
     "text": [
      "Validation Epoch 1, Val Loss: 1.176989734172821, Val Accuracy: 0.3888888888888889\n"
     ]
    },
    {
     "data": {
      "application/vnd.jupyter.widget-view+json": {
       "model_id": "e3b12ac0d1e848d7b2932c1be99aa083",
       "version_major": 2,
       "version_minor": 0
      },
      "text/plain": [
       "Training Epoch 2:   0%|          | 0/5 [00:00<?, ?it/s]"
      ]
     },
     "metadata": {},
     "output_type": "display_data"
    },
    {
     "name": "stdout",
     "output_type": "stream",
     "text": [
      "Training Epoch 2, Loss: 1.1265640735626221, Accuracy: 50.0%\n"
     ]
    },
    {
     "data": {
      "application/vnd.jupyter.widget-view+json": {
       "model_id": "f321e3240b364dad8b58aff664355650",
       "version_major": 2,
       "version_minor": 0
      },
      "text/plain": [
       "Validation:   0%|          | 0/2 [00:00<?, ?it/s]"
      ]
     },
     "metadata": {},
     "output_type": "display_data"
    },
    {
     "name": "stdout",
     "output_type": "stream",
     "text": [
      "Validation Epoch 2, Val Loss: 1.242375671863556, Val Accuracy: 0.3888888888888889\n"
     ]
    },
    {
     "data": {
      "application/vnd.jupyter.widget-view+json": {
       "model_id": "fce68df330d1407d933d791b3dc1de46",
       "version_major": 2,
       "version_minor": 0
      },
      "text/plain": [
       "Training Epoch 3:   0%|          | 0/5 [00:00<?, ?it/s]"
      ]
     },
     "metadata": {},
     "output_type": "display_data"
    },
    {
     "name": "stdout",
     "output_type": "stream",
     "text": [
      "Training Epoch 3, Loss: 1.1251408815383912, Accuracy: 50.0%\n"
     ]
    },
    {
     "data": {
      "application/vnd.jupyter.widget-view+json": {
       "model_id": "65962d881ace488eb96f2f602957976b",
       "version_major": 2,
       "version_minor": 0
      },
      "text/plain": [
       "Validation:   0%|          | 0/2 [00:00<?, ?it/s]"
      ]
     },
     "metadata": {},
     "output_type": "display_data"
    },
    {
     "name": "stdout",
     "output_type": "stream",
     "text": [
      "Validation Epoch 3, Val Loss: 1.2310920357704163, Val Accuracy: 0.3888888888888889\n"
     ]
    },
    {
     "data": {
      "application/vnd.jupyter.widget-view+json": {
       "model_id": "7e2151e60cb24c499387ab75cfc8fe62",
       "version_major": 2,
       "version_minor": 0
      },
      "text/plain": [
       "Training Epoch 4:   0%|          | 0/5 [00:00<?, ?it/s]"
      ]
     },
     "metadata": {},
     "output_type": "display_data"
    },
    {
     "name": "stdout",
     "output_type": "stream",
     "text": [
      "Training Epoch 4, Loss: 1.1269598007202148, Accuracy: 50.0%\n"
     ]
    },
    {
     "data": {
      "application/vnd.jupyter.widget-view+json": {
       "model_id": "90e9cb9fe1b244eb91e808a1f9f50721",
       "version_major": 2,
       "version_minor": 0
      },
      "text/plain": [
       "Validation:   0%|          | 0/2 [00:00<?, ?it/s]"
      ]
     },
     "metadata": {},
     "output_type": "display_data"
    },
    {
     "name": "stdout",
     "output_type": "stream",
     "text": [
      "Validation Epoch 4, Val Loss: 1.202590823173523, Val Accuracy: 0.375\n"
     ]
    },
    {
     "data": {
      "application/vnd.jupyter.widget-view+json": {
       "model_id": "74cd74d6b8c34048a7a588acf5dd10fb",
       "version_major": 2,
       "version_minor": 0
      },
      "text/plain": [
       "Training Epoch 5:   0%|          | 0/5 [00:00<?, ?it/s]"
      ]
     },
     "metadata": {},
     "output_type": "display_data"
    },
    {
     "name": "stdout",
     "output_type": "stream",
     "text": [
      "Training Epoch 5, Loss: 1.1314215183258056, Accuracy: 50.0%\n"
     ]
    },
    {
     "data": {
      "application/vnd.jupyter.widget-view+json": {
       "model_id": "0f42c433bc4d40a38968c3c6b2ddeaa8",
       "version_major": 2,
       "version_minor": 0
      },
      "text/plain": [
       "Validation:   0%|          | 0/2 [00:00<?, ?it/s]"
      ]
     },
     "metadata": {},
     "output_type": "display_data"
    },
    {
     "name": "stdout",
     "output_type": "stream",
     "text": [
      "Validation Epoch 5, Val Loss: 1.1944843530654907, Val Accuracy: 0.375\n"
     ]
    },
    {
     "data": {
      "application/vnd.jupyter.widget-view+json": {
       "model_id": "c13e390e00174f6ba86a027631852b5f",
       "version_major": 2,
       "version_minor": 0
      },
      "text/plain": [
       "Training Epoch 6:   0%|          | 0/5 [00:00<?, ?it/s]"
      ]
     },
     "metadata": {},
     "output_type": "display_data"
    },
    {
     "name": "stdout",
     "output_type": "stream",
     "text": [
      "Training Epoch 6, Loss: 1.1262107849121095, Accuracy: 50.0%\n"
     ]
    },
    {
     "data": {
      "application/vnd.jupyter.widget-view+json": {
       "model_id": "1c1fd155ac9740c4b59a2819f3f30568",
       "version_major": 2,
       "version_minor": 0
      },
      "text/plain": [
       "Validation:   0%|          | 0/2 [00:00<?, ?it/s]"
      ]
     },
     "metadata": {},
     "output_type": "display_data"
    },
    {
     "name": "stdout",
     "output_type": "stream",
     "text": [
      "Validation Epoch 6, Val Loss: 1.2560363411903381, Val Accuracy: 0.375\n"
     ]
    },
    {
     "data": {
      "application/vnd.jupyter.widget-view+json": {
       "model_id": "774cf424547e4b22a261f7ddd99d11db",
       "version_major": 2,
       "version_minor": 0
      },
      "text/plain": [
       "Training Epoch 7:   0%|          | 0/5 [00:00<?, ?it/s]"
      ]
     },
     "metadata": {},
     "output_type": "display_data"
    },
    {
     "name": "stdout",
     "output_type": "stream",
     "text": [
      "Training Epoch 7, Loss: 1.0513477325439453, Accuracy: 20.333333333333332%\n"
     ]
    },
    {
     "data": {
      "application/vnd.jupyter.widget-view+json": {
       "model_id": "b58fee4db23d4c85ab046b9b97ceda2a",
       "version_major": 2,
       "version_minor": 0
      },
      "text/plain": [
       "Validation:   0%|          | 0/2 [00:00<?, ?it/s]"
      ]
     },
     "metadata": {},
     "output_type": "display_data"
    },
    {
     "name": "stdout",
     "output_type": "stream",
     "text": [
      "Validation Epoch 7, Val Loss: 2.3356783986091614, Val Accuracy: 0.2361111111111111\n"
     ]
    },
    {
     "data": {
      "application/vnd.jupyter.widget-view+json": {
       "model_id": "72bbff5d51cd4b0baae9854a6307dcdb",
       "version_major": 2,
       "version_minor": 0
      },
      "text/plain": [
       "Training Epoch 8:   0%|          | 0/5 [00:00<?, ?it/s]"
      ]
     },
     "metadata": {},
     "output_type": "display_data"
    },
    {
     "name": "stdout",
     "output_type": "stream",
     "text": [
      "Training Epoch 8, Loss: 1.1404959440231324, Accuracy: 46.33333333333333%\n"
     ]
    },
    {
     "data": {
      "application/vnd.jupyter.widget-view+json": {
       "model_id": "24ada22a81f048908d9a5f789012f469",
       "version_major": 2,
       "version_minor": 0
      },
      "text/plain": [
       "Validation:   0%|          | 0/2 [00:00<?, ?it/s]"
      ]
     },
     "metadata": {},
     "output_type": "display_data"
    },
    {
     "name": "stdout",
     "output_type": "stream",
     "text": [
      "Validation Epoch 8, Val Loss: 0.9622920751571655, Val Accuracy: 0.6388888888888888\n"
     ]
    },
    {
     "data": {
      "application/vnd.jupyter.widget-view+json": {
       "model_id": "3d489a97052544b3b0a68e5543110a36",
       "version_major": 2,
       "version_minor": 0
      },
      "text/plain": [
       "Training Epoch 9:   0%|          | 0/5 [00:00<?, ?it/s]"
      ]
     },
     "metadata": {},
     "output_type": "display_data"
    },
    {
     "name": "stdout",
     "output_type": "stream",
     "text": [
      "Training Epoch 9, Loss: 0.9005500316619873, Accuracy: 47.0%\n"
     ]
    },
    {
     "data": {
      "application/vnd.jupyter.widget-view+json": {
       "model_id": "5e94f74a0b37417eac8febc5e6bd0a6d",
       "version_major": 2,
       "version_minor": 0
      },
      "text/plain": [
       "Validation:   0%|          | 0/2 [00:00<?, ?it/s]"
      ]
     },
     "metadata": {},
     "output_type": "display_data"
    },
    {
     "name": "stdout",
     "output_type": "stream",
     "text": [
      "Validation Epoch 9, Val Loss: 1.4188673496246338, Val Accuracy: 0.16666666666666666\n"
     ]
    },
    {
     "data": {
      "application/vnd.jupyter.widget-view+json": {
       "model_id": "8fa01e25ded84b1fa101ec63c51859fc",
       "version_major": 2,
       "version_minor": 0
      },
      "text/plain": [
       "Training Epoch 10:   0%|          | 0/5 [00:00<?, ?it/s]"
      ]
     },
     "metadata": {},
     "output_type": "display_data"
    },
    {
     "name": "stdout",
     "output_type": "stream",
     "text": [
      "Training Epoch 10, Loss: 1.146052861213684, Accuracy: 12.0%\n"
     ]
    },
    {
     "data": {
      "application/vnd.jupyter.widget-view+json": {
       "model_id": "69d38dc04d514065a784766cecd5b400",
       "version_major": 2,
       "version_minor": 0
      },
      "text/plain": [
       "Validation:   0%|          | 0/2 [00:00<?, ?it/s]"
      ]
     },
     "metadata": {},
     "output_type": "display_data"
    },
    {
     "name": "stdout",
     "output_type": "stream",
     "text": [
      "Validation Epoch 10, Val Loss: 1.6943644285202026, Val Accuracy: 0.1527777777777778\n"
     ]
    },
    {
     "data": {
      "application/vnd.jupyter.widget-view+json": {
       "model_id": "0691e9bdd5004e81b8584083f721d20b",
       "version_major": 2,
       "version_minor": 0
      },
      "text/plain": [
       "Training Epoch 11:   0%|          | 0/5 [00:00<?, ?it/s]"
      ]
     },
     "metadata": {},
     "output_type": "display_data"
    },
    {
     "name": "stdout",
     "output_type": "stream",
     "text": [
      "Training Epoch 11, Loss: 0.8835164546966553, Accuracy: 19.666666666666664%\n"
     ]
    },
    {
     "data": {
      "application/vnd.jupyter.widget-view+json": {
       "model_id": "a79c140f62274956b214dba82ad8605f",
       "version_major": 2,
       "version_minor": 0
      },
      "text/plain": [
       "Validation:   0%|          | 0/2 [00:00<?, ?it/s]"
      ]
     },
     "metadata": {},
     "output_type": "display_data"
    },
    {
     "name": "stdout",
     "output_type": "stream",
     "text": [
      "Validation Epoch 11, Val Loss: 1.0318270921707153, Val Accuracy: 0.5833333333333334\n"
     ]
    },
    {
     "data": {
      "application/vnd.jupyter.widget-view+json": {
       "model_id": "d07a7cc16d2e4540a11322d17459c1bb",
       "version_major": 2,
       "version_minor": 0
      },
      "text/plain": [
       "Training Epoch 12:   0%|          | 0/5 [00:00<?, ?it/s]"
      ]
     },
     "metadata": {},
     "output_type": "display_data"
    },
    {
     "name": "stdout",
     "output_type": "stream",
     "text": [
      "Training Epoch 12, Loss: 0.984557056427002, Accuracy: 49.666666666666664%\n"
     ]
    },
    {
     "data": {
      "application/vnd.jupyter.widget-view+json": {
       "model_id": "4f296e92b9a5412c8771a28587fc8c4e",
       "version_major": 2,
       "version_minor": 0
      },
      "text/plain": [
       "Validation:   0%|          | 0/2 [00:00<?, ?it/s]"
      ]
     },
     "metadata": {},
     "output_type": "display_data"
    },
    {
     "name": "stdout",
     "output_type": "stream",
     "text": [
      "Validation Epoch 12, Val Loss: 1.5348573327064514, Val Accuracy: 0.5972222222222222\n"
     ]
    },
    {
     "data": {
      "application/vnd.jupyter.widget-view+json": {
       "model_id": "d84baf9dd2d445f191b7259f68444851",
       "version_major": 2,
       "version_minor": 0
      },
      "text/plain": [
       "Training Epoch 13:   0%|          | 0/5 [00:00<?, ?it/s]"
      ]
     },
     "metadata": {},
     "output_type": "display_data"
    },
    {
     "name": "stdout",
     "output_type": "stream",
     "text": [
      "Training Epoch 13, Loss: 0.9448411703109741, Accuracy: 53.0%\n"
     ]
    },
    {
     "data": {
      "application/vnd.jupyter.widget-view+json": {
       "model_id": "788d83c5f742450fa6ba9a5b65a0deb8",
       "version_major": 2,
       "version_minor": 0
      },
      "text/plain": [
       "Validation:   0%|          | 0/2 [00:00<?, ?it/s]"
      ]
     },
     "metadata": {},
     "output_type": "display_data"
    },
    {
     "name": "stdout",
     "output_type": "stream",
     "text": [
      "Validation Epoch 13, Val Loss: 1.6150670945644379, Val Accuracy: 0.5972222222222222\n"
     ]
    },
    {
     "data": {
      "application/vnd.jupyter.widget-view+json": {
       "model_id": "063a70e2d889467f97bb31c9db87c0d2",
       "version_major": 2,
       "version_minor": 0
      },
      "text/plain": [
       "Training Epoch 14:   0%|          | 0/5 [00:00<?, ?it/s]"
      ]
     },
     "metadata": {},
     "output_type": "display_data"
    },
    {
     "name": "stdout",
     "output_type": "stream",
     "text": [
      "Training Epoch 14, Loss: 0.94306560754776, Accuracy: 45.666666666666664%\n"
     ]
    },
    {
     "data": {
      "application/vnd.jupyter.widget-view+json": {
       "model_id": "2934d88b7f724e87b6ea776c13f8013b",
       "version_major": 2,
       "version_minor": 0
      },
      "text/plain": [
       "Validation:   0%|          | 0/2 [00:00<?, ?it/s]"
      ]
     },
     "metadata": {},
     "output_type": "display_data"
    },
    {
     "name": "stdout",
     "output_type": "stream",
     "text": [
      "Validation Epoch 14, Val Loss: 1.0895013213157654, Val Accuracy: 0.625\n"
     ]
    },
    {
     "data": {
      "application/vnd.jupyter.widget-view+json": {
       "model_id": "741e1198553149d9becc54d2f188b21c",
       "version_major": 2,
       "version_minor": 0
      },
      "text/plain": [
       "Training Epoch 15:   0%|          | 0/5 [00:00<?, ?it/s]"
      ]
     },
     "metadata": {},
     "output_type": "display_data"
    },
    {
     "name": "stdout",
     "output_type": "stream",
     "text": [
      "Training Epoch 15, Loss: 0.8023460984230042, Accuracy: 48.0%\n"
     ]
    },
    {
     "data": {
      "application/vnd.jupyter.widget-view+json": {
       "model_id": "cfcc57d8251b40c58e7b26304f9caed7",
       "version_major": 2,
       "version_minor": 0
      },
      "text/plain": [
       "Validation:   0%|          | 0/2 [00:00<?, ?it/s]"
      ]
     },
     "metadata": {},
     "output_type": "display_data"
    },
    {
     "name": "stdout",
     "output_type": "stream",
     "text": [
      "Validation Epoch 15, Val Loss: 1.0491778254508972, Val Accuracy: 0.5694444444444444\n"
     ]
    },
    {
     "data": {
      "application/vnd.jupyter.widget-view+json": {
       "model_id": "6b0d19f819ed48e2b577fb3eb8d2595a",
       "version_major": 2,
       "version_minor": 0
      },
      "text/plain": [
       "Testing:   0%|          | 0/1 [00:00<?, ?it/s]"
      ]
     },
     "metadata": {},
     "output_type": "display_data"
    },
    {
     "name": "stdout",
     "output_type": "stream",
     "text": [
      "Accuracy: 0.7778\n",
      "Precision: 1.0000\n",
      "Recall: 0.5556\n"
     ]
    },
    {
     "data": {
      "image/png": "[encoded data removed]",
      "text/plain": [
       "<Figure size 800x600 with 1 Axes>"
      ]
     },
     "metadata": {},
     "output_type": "display_data"
    }
   ],
   "source": [
    "import torch\n",
    "import torch.nn as nn\n",
    "import torch.optim as optim\n",
    "from torch.optim import lr_scheduler\n",
    "from torch.utils.data import TensorDataset, DataLoader\n",
    "import torch.nn.functional as F\n",
    "import pandas as pd\n",
    "from tqdm.notebook import tqdm\n",
    "from sklearn.compose import ColumnTransformer\n",
    "from sklearn.impute import SimpleImputer\n",
    "from sklearn.preprocessing import StandardScaler, OneHotEncoder, MinMaxScaler\n",
    "from sklearn.pipeline import Pipeline\n",
    "from sklearn.model_selection import train_test_split\n",
    "from sklearn.svm import SVC\n",
    "from sklearn.metrics import confusion_matrix, accuracy_score, precision_score, recall_score\n",
    "from imblearn.over_sampling import SMOTE\n",
    "from imblearn.pipeline import make_pipeline\n",
    "from xgboost import XGBClassifier\n",
    "import seaborn as sns\n",
    "import matplotlib.pyplot as plt\n",
    "import xgboost as xgb\n",
    "from graphviz import Source\n",
    "from sklearn.linear_model import LogisticRegression\n",
    "from sklearn.model_selection import GridSearchCV\n",
    "from sklearn.discriminant_analysis import LinearDiscriminantAnalysis as LDA  # Import LDA\n",
    "\n",
    "import random\n",
    "import numpy as np\n",
    "\n",
    "# Set a seed for reproducibility\n",
    "seed = 42\n",
    "torch.manual_seed(seed)\n",
    "random.seed(seed)\n",
    "np.random.seed(seed)\n",
    "\n",
    "COMPONENTS = 1\n",
    "\n",
    "df = pd.read_csv('../heart_failure_clinical_records_dataset.csv')\n",
    "\n",
    "target = 'DEATH_EVENT'\n",
    "features = df.columns[df.columns != target]\n",
    "\n",
    "# List of columns to be standardized\n",
    "columns_to_standardize = df.columns.difference(['anemia', 'diabetes', 'high_blood_pressure', 'sex', 'smoking', 'DEATH_EVENT'])\n",
    "\n",
    "# Instantiate StandardScaler\n",
    "scaler = StandardScaler()\n",
    "\n",
    "# Fit and transform the selected columns\n",
    "df[columns_to_standardize] = scaler.fit_transform(df[columns_to_standardize])\n",
    "\n",
    "class_counts = df['DEATH_EVENT'].value_counts()\n",
    "print(f\"Class distribution:\\n{class_counts}\")\n",
    "\n",
    "# Split dataset into train, validation, and test\n",
    "df_train, df_temp = train_test_split(df, test_size=0.3, random_state=42)\n",
    "df_val, df_test = train_test_split(df_temp, test_size=0.2, random_state=42)\n",
    "\n",
    "# Extract features and target variable\n",
    "X_train = df_train.drop('DEATH_EVENT', axis=1).values\n",
    "y_train = df_train['DEATH_EVENT'].values\n",
    "\n",
    "# Apply SMOTE to balance the class distribution\n",
    "smote = SMOTE(random_state=42)\n",
    "X_train, y_train = smote.fit_resample(X_train, y_train)\n",
    "\n",
    "# Apply LDA on the training set\n",
    "lda = LDA(n_components=COMPONENTS)  # Set the desired number of components\n",
    "X_train_lda = lda.fit_transform(X_train, y_train)\n",
    "\n",
    "# Transform validation and test sets using the same LDA instance\n",
    "X_val_lda = lda.transform(df_val.drop('DEATH_EVENT', axis=1).values)\n",
    "X_test_lda = lda.transform(df_test.drop('DEATH_EVENT', axis=1).values)\n",
    "\n",
    "# Convert data to PyTorch tensors\n",
    "X_train_tensor = torch.tensor(X_train_lda, dtype=torch.float32)\n",
    "y_train_tensor = torch.tensor(y_train, dtype=torch.float32)\n",
    "\n",
    "X_val_tensor = torch.tensor(X_val_lda, dtype=torch.float32)\n",
    "y_val_tensor = torch.tensor(df_val['DEATH_EVENT'].values, dtype=torch.float32)\n",
    "\n",
    "X_test_tensor = torch.tensor(X_test_lda, dtype=torch.float32)\n",
    "y_test_tensor = torch.tensor(df_test['DEATH_EVENT'].values, dtype=torch.float32)\n",
    "\n",
    "\n",
    "# Create DataLoader\n",
    "train_dataset = TensorDataset(X_train_tensor, y_train_tensor)\n",
    "train_loader = DataLoader(train_dataset, batch_size=64, shuffle=True)\n",
    "\n",
    "val_dataset = TensorDataset(X_val_tensor, y_val_tensor)\n",
    "val_loader = DataLoader(val_dataset, batch_size=64, shuffle=False)\n",
    "\n",
    "test_dataset = TensorDataset(X_test_tensor, y_test_tensor)\n",
    "test_loader = DataLoader(test_dataset, batch_size=64, shuffle=False)\n",
    "\n",
    "class SimpleNN(nn.Module):\n",
    "    def __init__(self, input_size, hidden_size1, hidden_size2, hidden_size3, output_size, dropout_rate=0.3):\n",
    "        super(SimpleNN, self).__init__()\n",
    "        self.fc1 = nn.Linear(input_size, hidden_size1)\n",
    "        self.relu1 = nn.ReLU()\n",
    "        self.dropout1 = nn.Dropout(p=dropout_rate)\n",
    "        self.fc2 = nn.Linear(hidden_size1, hidden_size2)\n",
    "        self.relu2 = nn.ReLU()\n",
    "        self.dropout2 = nn.Dropout(p=dropout_rate)\n",
    "        self.fc3 = nn.Linear(hidden_size2, hidden_size3)\n",
    "        self.relu3 = nn.ReLU()\n",
    "        self.dropout3 = nn.Dropout(p=dropout_rate)\n",
    "        self.fc4 = nn.Linear(hidden_size3, output_size)\n",
    "\n",
    "    def forward(self, x):\n",
    "        x = self.relu1(self.fc1(x))\n",
    "        x = self.dropout1(x)\n",
    "        x = self.relu2(self.fc2(x))\n",
    "        x = self.dropout2(x)\n",
    "        x = self.relu3(self.fc3(x))\n",
    "        x = self.dropout3(x)\n",
    "        x = self.fc4(x)  # No sigmoid here\n",
    "        return x\n",
    "\n",
    "weight = 3.0\n",
    "\n",
    "# Adjust the input size of the SimpleNN model\n",
    "input_size = X_train_lda.shape[1]  # Number of components after LDA\n",
    "model = SimpleNN(input_size=input_size, hidden_size1=20, hidden_size2=10, hidden_size3=2, output_size=1)\n",
    "criterion = nn.BCEWithLogitsLoss(pos_weight=torch.Tensor([weight])) \n",
    "\n",
    "optimizer = optim.Adam(model.parameters(), lr=0.3910009)  # Add weight decay for L2 regularization\n",
    "\n",
    "# Learning rate scheduler\n",
    "scheduler = lr_scheduler.StepLR(optimizer, step_size=1, gamma=0.4)\n",
    "EPOCHS = 15\n",
    "# Training function\n",
    "# Modify the train function to work with the pipeline\n",
    "def train(train_loader, val_loader, criterion, optimizer, model, epochs=EPOCHS):\n",
    "    for epoch in range(epochs):\n",
    "        total_loss = 0\n",
    "        correct = 0\n",
    "        total_samples = 0\n",
    "        for batch in tqdm(train_loader, desc=f\"Training Epoch {epoch+1}\"):\n",
    "            inputs, labels = batch\n",
    "            optimizer.zero_grad()\n",
    "            outputs = model(inputs)\n",
    "            loss = criterion(outputs, labels.unsqueeze(1))\n",
    "            loss.backward()\n",
    "            optimizer.step()\n",
    "\n",
    "            total_loss += loss.item()\n",
    "\n",
    "            # Compute training accuracy\n",
    "            predicted = torch.round(outputs)\n",
    "            correct += (predicted == labels.unsqueeze(1)).sum().item()\n",
    "            total_samples += labels.size(0)\n",
    "\n",
    "        accuracy = correct / total_samples\n",
    "        print(f\"Training Epoch {epoch+1}, Loss: {total_loss / len(train_loader)}, Accuracy: {accuracy * 100}%\")\n",
    "\n",
    "        validation(model, val_loader, criterion, epoch)\n",
    "\n",
    "\n",
    "# Evaluate function for validation\n",
    "def validation(model, val_loader, criterion, epoch):\n",
    "    model.eval()\n",
    "    total_loss = 0\n",
    "    correct = 0\n",
    "    total_samples = 0\n",
    "    with torch.no_grad():\n",
    "        for inputs, labels in tqdm(val_loader, desc=\"Validation\"):\n",
    "            outputs = model(inputs)\n",
    "            loss = criterion(outputs, labels.unsqueeze(1))\n",
    "            total_loss += loss.item()\n",
    "            predicted = torch.round(outputs)\n",
    "            correct += (predicted == labels.unsqueeze(1)).sum().item()\n",
    "            total_samples += labels.size(0)\n",
    "    accuracy = correct / total_samples\n",
    "    print(f\"Validation Epoch {epoch+1}, Val Loss: {total_loss / len(val_loader)}, Val Accuracy: {accuracy}\")\n",
    "\n",
    "# Evaluate function for testing\n",
    "# Update the test function\n",
    "def test(model, test_loader, criterion, threshold=0.4):\n",
    "    model.eval()\n",
    "    total_loss = 0\n",
    "    correct = 0\n",
    "    total_samples = 0\n",
    "    all_labels = []\n",
    "    all_predictions = []\n",
    "\n",
    "    with torch.no_grad():\n",
    "        for inputs, labels in tqdm(test_loader, desc=\"Testing\"):\n",
    "            outputs = model(inputs)\n",
    "            loss = criterion(outputs, labels.unsqueeze(1))\n",
    "            total_loss += loss.item()\n",
    "\n",
    "            # Convert probability outputs to binary predictions using the threshold\n",
    "            predicted = (outputs >= threshold).float()\n",
    "\n",
    "            correct += (predicted == labels.unsqueeze(1)).sum().item()\n",
    "            total_samples += labels.size(0)\n",
    "            \n",
    "            # Store labels and predictions for confusion matrix\n",
    "            all_labels.extend(labels.cpu().numpy())\n",
    "            all_predictions.extend(predicted.cpu().numpy())\n",
    "\n",
    "    accuracy = correct / total_samples\n",
    "    conf_matrix = confusion_matrix(all_labels, np.round(all_predictions))\n",
    "    # Calculate evaluation metrics\n",
    "    precision = precision_score(all_labels, np.round(all_predictions), zero_division=1)\n",
    "    recall = recall_score(all_labels, np.round(all_predictions))\n",
    "\n",
    "    \n",
    "   # Print the evaluation metrics\n",
    "    print(f'Accuracy: {accuracy:.4f}')\n",
    "    print(f'Precision: {precision:.4f}')\n",
    "    print(f'Recall: {recall:.4f}')\n",
    "    \n",
    "    print\n",
    "    # Plot confusion matrix using seaborn\n",
    "    plt.figure(figsize=(8, 6))\n",
    "    sns.heatmap(conf_matrix / total_samples * 100, annot=True, fmt='.2f', cmap='Blues', cbar=False,\n",
    "                xticklabels=['Predicted 0', 'Predicted 1'],\n",
    "                yticklabels=['Actual 0', 'Actual 1'])\n",
    "    plt.xlabel('Predicted')\n",
    "    plt.ylabel('Actual')\n",
    "    plt.title('Confusion Matrix (Percentage)')\n",
    "    plt.show()\n",
    "\n",
    "\n",
    "# Training loop\n",
    "train(train_loader, val_loader, criterion, optimizer, model, epochs=EPOCHS)\n",
    "\n",
    "# Testing\n",
    "test(model, test_loader, criterion, threshold=0.4)\n"
   ]
  },
  {
   "cell_type": "code",
   "execution_count": 6,
   "id": "bcb07ba2-a1cb-4505-9d04-279607efda6e",
   "metadata": {
    "tags": []
   },
   "outputs": [],
   "source": [
    "\n",
    "# Create DataLoader\n",
    "train_dataset = TensorDataset(X_train_tensor, y_train_tensor)\n",
    "train_loader = DataLoader(train_dataset, batch_size=64, shuffle=True)\n",
    "\n",
    "val_dataset = TensorDataset(X_val_tensor, y_val_tensor)\n",
    "val_loader = DataLoader(val_dataset, batch_size=64, shuffle=False)\n",
    "\n",
    "test_dataset = TensorDataset(X_test_tensor, y_test_tensor)\n",
    "test_loader = DataLoader(test_dataset, batch_size=64, shuffle=False)"
   ]
  },
  {
   "cell_type": "code",
   "execution_count": 7,
   "id": "b9f66b73-61ac-4b9b-b6f7-400cae09de1b",
   "metadata": {
    "tags": []
   },
   "outputs": [
    {
     "name": "stdout",
     "output_type": "stream",
     "text": [
      "Epoch [10/300], Loss: 0.6038\n",
      "Epoch [20/300], Loss: 0.5936\n",
      "Epoch [30/300], Loss: 0.5839\n",
      "Epoch [40/300], Loss: 0.5748\n",
      "Epoch [50/300], Loss: 0.5661\n",
      "Epoch [60/300], Loss: 0.5579\n",
      "Epoch [70/300], Loss: 0.5500\n",
      "Epoch [80/300], Loss: 0.5426\n",
      "Epoch [90/300], Loss: 0.5355\n",
      "Epoch [100/300], Loss: 0.5288\n",
      "Epoch [110/300], Loss: 0.5224\n",
      "Epoch [120/300], Loss: 0.5163\n",
      "Epoch [130/300], Loss: 0.5105\n",
      "Epoch [140/300], Loss: 0.5050\n",
      "Epoch [150/300], Loss: 0.4997\n",
      "Epoch [160/300], Loss: 0.4947\n",
      "Epoch [170/300], Loss: 0.4899\n",
      "Epoch [180/300], Loss: 0.4853\n",
      "Epoch [190/300], Loss: 0.4809\n",
      "Epoch [200/300], Loss: 0.4767\n",
      "Epoch [210/300], Loss: 0.4726\n",
      "Epoch [220/300], Loss: 0.4688\n",
      "Epoch [230/300], Loss: 0.4651\n",
      "Epoch [240/300], Loss: 0.4615\n",
      "Epoch [250/300], Loss: 0.4581\n",
      "Epoch [260/300], Loss: 0.4549\n",
      "Epoch [270/300], Loss: 0.4517\n",
      "Epoch [280/300], Loss: 0.4487\n",
      "Epoch [290/300], Loss: 0.4458\n",
      "Epoch [300/300], Loss: 0.4430\n",
      "Accuracy: 0.7222\n",
      "Precision: 0.6667\n",
      "Recall: 0.8889\n"
     ]
    },
    {
     "data": {
      "image/png": "[encoded data removed]",
      "text/plain": [
       "<Figure size 640x480 with 1 Axes>"
      ]
     },
     "metadata": {},
     "output_type": "display_data"
    }
   ],
   "source": [
    "# Linear Regression\n",
    "\n",
    "# Assuming input_size is the number of features in your dataset\n",
    "input_size = X_train_tensor.shape[1]\n",
    "\n",
    "# Define a simple logistic regression model\n",
    "linear_model = nn.Linear(input_size, 1)\n",
    "sigmoid = nn.Sigmoid()\n",
    "\n",
    "# Loss function and optimizer\n",
    "criterion = nn.BCEWithLogitsLoss()  # Binary Cross Entropy Loss for binary classification\n",
    "optimizer = optim.SGD(linear_model.parameters(), lr=.0065)  # Set a fixed learning rate\n",
    "\n",
    "# Training loop\n",
    "epochs = 300\n",
    "for epoch in range(epochs):\n",
    "    # Forward pass\n",
    "    outputs = linear_model(X_train_tensor)\n",
    "    loss = criterion(outputs, y_train_tensor.unsqueeze(1))  # Ensure the shape matches\n",
    "\n",
    "    # Backward pass and optimization\n",
    "    optimizer.zero_grad()\n",
    "    loss.backward()\n",
    "    optimizer.step()\n",
    "\n",
    "    # Print loss every 10 epochs\n",
    "    if (epoch + 1) % 10 == 0:\n",
    "        print(f'Epoch [{epoch + 1}/{epochs}], Loss: {loss.item():.4f}')\n",
    "\n",
    "# After training, you can use the trained model to make predictions on the test set\n",
    "test_predictions = sigmoid(linear_model(X_test_tensor))\n",
    "\n",
    "# Convert probabilities to class labels (0 or 1)\n",
    "predicted_labels = (test_predictions >= 0.50).int()\n",
    "\n",
    "# Calculate evaluation metrics\n",
    "accuracy = accuracy_score(y_test_tensor.numpy().astype(int), predicted_labels.detach().numpy())\n",
    "precision = precision_score(y_test_tensor.numpy().astype(int), predicted_labels.detach().numpy(), zero_division=1)\n",
    "recall = recall_score(y_test_tensor.numpy().astype(int), predicted_labels.detach().numpy())\n",
    "\n",
    "# Print or use the metrics\n",
    "print(f'Accuracy: {accuracy:.4f}')\n",
    "print(f'Precision: {precision:.4f}')\n",
    "print(f'Recall: {recall:.4f}')\n",
    "\n",
    "# Create confusion matrix for the test set\n",
    "conf_matrix = confusion_matrix(y_test_tensor.numpy(), predicted_labels.detach().numpy())\n",
    "\n",
    "# Plot the confusion matrix using seaborn with percentages\n",
    "total_samples = len(y_test_tensor)\n",
    "sns.heatmap(conf_matrix / total_samples * 100, annot=True, fmt='.2f', cmap='Blues', cbar=False,\n",
    "            xticklabels=['Predicted 0', 'Predicted 1'],\n",
    "            yticklabels=['Actual 0', 'Actual 1'])\n",
    "plt.xlabel('Predicted')\n",
    "plt.ylabel('Actual')\n",
    "plt.title('Confusion Matrix (Percentage)')\n",
    "plt.show()\n"
   ]
  },
  {
   "cell_type": "code",
   "execution_count": 8,
   "id": "30619195-a4cb-4be9-bcb4-de5569dd8762",
   "metadata": {
    "tags": []
   },
   "outputs": [
    {
     "name": "stdout",
     "output_type": "stream",
     "text": [
      "Best Parameters: {'learning_rate': 0.99, 'max_depth': 3, 'n_estimators': 114, 'subsample': 0.8}\n",
      "Validation Accuracy: 0.7500\n",
      "Validation Precision: 0.6562\n",
      "Validation Recall: 0.7500\n",
      "Test Accuracy: 0.5556\n",
      "Test Precision: 0.5714\n",
      "Test Recall: 0.4444\n"
     ]
    },
    {
     "data": {
      "image/png": "[encoded data removed]",
      "text/plain": [
       "<Figure size 640x480 with 1 Axes>"
      ]
     },
     "metadata": {},
     "output_type": "display_data"
    }
   ],
   "source": [
    "# XGBoost\n",
    "\n",
    "# Convert data to NumPy arrays for XGBoost\n",
    "X_train_numpy = X_train_tensor.numpy()\n",
    "y_train_numpy = y_train_tensor.numpy()\n",
    "\n",
    "X_val_numpy = X_val_tensor.numpy()\n",
    "y_val_numpy = y_val_tensor.numpy()\n",
    "\n",
    "X_test_numpy = X_test_tensor.numpy()\n",
    "y_test_numpy = y_test_tensor.numpy()\n",
    "\n",
    "param_grid = {\n",
    "    'learning_rate': [0.90, 0.99, 0.9999, .999999], #\n",
    "    'max_depth': [3, 4, 5 ,6], # -\n",
    "    'n_estimators': [114 ,116], #\n",
    "    'subsample': [0.8, 0.9, 1.0], #\n",
    "}\n",
    "\n",
    "# Create XGBoost classifier\n",
    "xgb_classifier = XGBClassifier()\n",
    "\n",
    "# Initialize GridSearchCV\n",
    "grid_search = GridSearchCV(estimator=xgb_classifier, param_grid=param_grid, cv=10, scoring='accuracy')\n",
    "\n",
    "# Fit the model to the training data\n",
    "grid_search.fit(X_train_numpy, y_train_numpy)\n",
    "\n",
    "# Fit the model to the training data using the best parameters\n",
    "best_xgb_classifier = grid_search.best_estimator_\n",
    "best_xgb_classifier.fit(X_train_numpy, y_train_numpy)\n",
    "\n",
    "# Get the best parameters from the grid search\n",
    "best_params = grid_search.best_params_\n",
    "print(\"Best Parameters:\", best_params)\n",
    "\n",
    "# Use the best model to make predictions on the validation set\n",
    "val_predictions = best_xgb_classifier.predict(X_val_numpy)\n",
    "\n",
    "# Calculate metrics on the validation set\n",
    "val_accuracy = accuracy_score(y_val_numpy, val_predictions)\n",
    "val_precision = precision_score(y_val_numpy, val_predictions)\n",
    "val_recall = recall_score(y_val_numpy, val_predictions)\n",
    "\n",
    "print(f'Validation Accuracy: {val_accuracy:.4f}')\n",
    "print(f'Validation Precision: {val_precision:.4f}')\n",
    "print(f'Validation Recall: {val_recall:.4f}')\n",
    "\n",
    "# Use the best model to make predictions on the test set\n",
    "test_predictions = best_xgb_classifier.predict(X_test_numpy)\n",
    "\n",
    "# Calculate metrics on the test set\n",
    "test_accuracy = accuracy_score(y_test_numpy, test_predictions)\n",
    "test_precision = precision_score(y_test_numpy, test_predictions)\n",
    "test_recall = recall_score(y_test_numpy, test_predictions)\n",
    "\n",
    "print(f'Test Accuracy: {test_accuracy:.4f}')\n",
    "print(f'Test Precision: {test_precision:.4f}')\n",
    "print(f'Test Recall: {test_recall:.4f}')\n",
    "\n",
    "# Create confusion matrix for the test set\n",
    "conf_matrix_XG = confusion_matrix(y_test_numpy, test_predictions)\n",
    "\n",
    "# Plot the confusion matrix using seaborn with percentages\n",
    "total_samples = len(y_test_tensor)\n",
    "sns.heatmap(conf_matrix_XG / total_samples * 100, annot=True, fmt='.2f', cmap='Blues', cbar=False,\n",
    "            xticklabels=['Predicted 0', 'Predicted 1'],\n",
    "            yticklabels=['Actual 0', 'Actual 1'])\n",
    "plt.xlabel('Predicted')\n",
    "plt.ylabel('Actual')\n",
    "plt.title('Confusion Matrix (Percentage)')\n",
    "plt.show()"
   ]
  },
  {
   "cell_type": "code",
   "execution_count": 9,
   "id": "1fef0ab9-6703-43df-8303-174b22a8d761",
   "metadata": {
    "tags": []
   },
   "outputs": [
    {
     "data": {
      "image/svg+xml": [
       "<?xml version=\"1.0\" encoding=\"UTF-8\" standalone=\"no\"?>\n",
       "<!DOCTYPE svg PUBLIC \"-//W3C//DTD SVG 1.1//EN\"\n",
       " \"http://www.w3.org/Graphics/SVG/1.1/DTD/svg11.dtd\">\n",
       "<!-- Generated by graphviz version 9.0.0 (20230911.1827)\n",
       " -->\n",
       "<!-- Pages: 1 -->\n",
       "<svg width=\"1070pt\" height=\"310pt\"\n",
       " viewBox=\"0.00 0.00 1070.05 309.50\" xmlns=\"http://www.w3.org/2000/svg\" xmlns:xlink=\"http://www.w3.org/1999/xlink\">\n",
       "<g id=\"graph0\" class=\"graph\" transform=\"scale(1 1) rotate(0) translate(4 305.5)\">\n",
       "<polygon fill=\"white\" stroke=\"none\" points=\"-4,4 -4,-305.5 1066.05,-305.5 1066.05,4 -4,4\"/>\n",
       "<!-- 0 -->\n",
       "<g id=\"node1\" class=\"node\">\n",
       "<title>0</title>\n",
       "<ellipse fill=\"none\" stroke=\"black\" cx=\"641.99\" cy=\"-283.5\" rx=\"85.64\" ry=\"18\"/>\n",
       "<text text-anchor=\"middle\" x=\"641.99\" y=\"-278.45\" font-family=\"Times,serif\" font-size=\"14.00\">age&lt;&#45;0.0289134644</text>\n",
       "</g>\n",
       "<!-- 1 -->\n",
       "<g id=\"node2\" class=\"node\">\n",
       "<title>1</title>\n",
       "<ellipse fill=\"none\" stroke=\"black\" cx=\"550.99\" cy=\"-195\" rx=\"76.43\" ry=\"18\"/>\n",
       "<text text-anchor=\"middle\" x=\"550.99\" y=\"-189.95\" font-family=\"Times,serif\" font-size=\"14.00\">age&lt;&#45;0.79976511</text>\n",
       "</g>\n",
       "<!-- 0&#45;&gt;1 -->\n",
       "<g id=\"edge1\" class=\"edge\">\n",
       "<title>0&#45;&gt;1</title>\n",
       "<path fill=\"none\" stroke=\"#0000ff\" d=\"M624.01,-265.41C610.46,-252.53 591.7,-234.7 576.59,-220.33\"/>\n",
       "<polygon fill=\"#0000ff\" stroke=\"#0000ff\" points=\"579.38,-218.16 569.72,-213.8 574.55,-223.23 579.38,-218.16\"/>\n",
       "<text text-anchor=\"middle\" x=\"639.11\" y=\"-234.2\" font-family=\"Times,serif\" font-size=\"14.00\">yes, missing</text>\n",
       "</g>\n",
       "<!-- 2 -->\n",
       "<g id=\"node3\" class=\"node\">\n",
       "<title>2</title>\n",
       "<ellipse fill=\"none\" stroke=\"black\" cx=\"801.99\" cy=\"-195\" rx=\"73.36\" ry=\"18\"/>\n",
       "<text text-anchor=\"middle\" x=\"801.99\" y=\"-189.95\" font-family=\"Times,serif\" font-size=\"14.00\">age&lt;1.47098613</text>\n",
       "</g>\n",
       "<!-- 0&#45;&gt;2 -->\n",
       "<g id=\"edge2\" class=\"edge\">\n",
       "<title>0&#45;&gt;2</title>\n",
       "<path fill=\"none\" stroke=\"#ff0000\" d=\"M672.08,-266.23C697.72,-252.37 734.75,-232.35 762.71,-217.23\"/>\n",
       "<polygon fill=\"#ff0000\" stroke=\"#ff0000\" points=\"764.11,-220.46 771.24,-212.62 760.78,-214.3 764.11,-220.46\"/>\n",
       "<text text-anchor=\"middle\" x=\"743.74\" y=\"-234.2\" font-family=\"Times,serif\" font-size=\"14.00\">no</text>\n",
       "</g>\n",
       "<!-- 3 -->\n",
       "<g id=\"node4\" class=\"node\">\n",
       "<title>3</title>\n",
       "<ellipse fill=\"none\" stroke=\"black\" cx=\"257.99\" cy=\"-106.5\" rx=\"76.43\" ry=\"18\"/>\n",
       "<text text-anchor=\"middle\" x=\"257.99\" y=\"-101.45\" font-family=\"Times,serif\" font-size=\"14.00\">age&lt;&#45;1.04085505</text>\n",
       "</g>\n",
       "<!-- 1&#45;&gt;3 -->\n",
       "<g id=\"edge3\" class=\"edge\">\n",
       "<title>1&#45;&gt;3</title>\n",
       "<path fill=\"none\" stroke=\"#0000ff\" d=\"M504.56,-180.29C453.23,-165.14 370.51,-140.72 315.22,-124.4\"/>\n",
       "<polygon fill=\"#0000ff\" stroke=\"#0000ff\" points=\"316.23,-121.05 305.65,-121.57 314.25,-127.76 316.23,-121.05\"/>\n",
       "<text text-anchor=\"middle\" x=\"465.11\" y=\"-145.7\" font-family=\"Times,serif\" font-size=\"14.00\">yes, missing</text>\n",
       "</g>\n",
       "<!-- 4 -->\n",
       "<g id=\"node5\" class=\"node\">\n",
       "<title>4</title>\n",
       "<ellipse fill=\"none\" stroke=\"black\" cx=\"550.99\" cy=\"-106.5\" rx=\"71.82\" ry=\"18\"/>\n",
       "<text text-anchor=\"middle\" x=\"550.99\" y=\"-101.45\" font-family=\"Times,serif\" font-size=\"14.00\">age&lt;&#45;0.1717242</text>\n",
       "</g>\n",
       "<!-- 1&#45;&gt;4 -->\n",
       "<g id=\"edge4\" class=\"edge\">\n",
       "<title>1&#45;&gt;4</title>\n",
       "<path fill=\"none\" stroke=\"#ff0000\" d=\"M550.99,-176.91C550.99,-165.26 550.99,-149.55 550.99,-136.02\"/>\n",
       "<polygon fill=\"#ff0000\" stroke=\"#ff0000\" points=\"554.49,-136.36 550.99,-126.36 547.49,-136.36 554.49,-136.36\"/>\n",
       "<text text-anchor=\"middle\" x=\"557.74\" y=\"-145.7\" font-family=\"Times,serif\" font-size=\"14.00\">no</text>\n",
       "</g>\n",
       "<!-- 5 -->\n",
       "<g id=\"node10\" class=\"node\">\n",
       "<title>5</title>\n",
       "<ellipse fill=\"none\" stroke=\"black\" cx=\"801.99\" cy=\"-106.5\" rx=\"77.97\" ry=\"18\"/>\n",
       "<text text-anchor=\"middle\" x=\"801.99\" y=\"-101.45\" font-family=\"Times,serif\" font-size=\"14.00\">age&lt;0.546239972</text>\n",
       "</g>\n",
       "<!-- 2&#45;&gt;5 -->\n",
       "<g id=\"edge9\" class=\"edge\">\n",
       "<title>2&#45;&gt;5</title>\n",
       "<path fill=\"none\" stroke=\"#0000ff\" d=\"M801.99,-176.91C801.99,-165.26 801.99,-149.55 801.99,-136.02\"/>\n",
       "<polygon fill=\"#0000ff\" stroke=\"#0000ff\" points=\"805.49,-136.36 801.99,-126.36 798.49,-136.36 805.49,-136.36\"/>\n",
       "<text text-anchor=\"middle\" x=\"836.11\" y=\"-145.7\" font-family=\"Times,serif\" font-size=\"14.00\">yes, missing</text>\n",
       "</g>\n",
       "<!-- 6 -->\n",
       "<g id=\"node11\" class=\"node\">\n",
       "<title>6</title>\n",
       "<ellipse fill=\"none\" stroke=\"black\" cx=\"979.99\" cy=\"-106.5\" rx=\"82.06\" ry=\"18\"/>\n",
       "<text text-anchor=\"middle\" x=\"979.99\" y=\"-101.45\" font-family=\"Times,serif\" font-size=\"14.00\">leaf=&#45;0.692586005</text>\n",
       "</g>\n",
       "<!-- 2&#45;&gt;6 -->\n",
       "<g id=\"edge10\" class=\"edge\">\n",
       "<title>2&#45;&gt;6</title>\n",
       "<path fill=\"none\" stroke=\"#ff0000\" d=\"M833.81,-178.54C862.56,-164.56 905.11,-143.89 936.9,-128.44\"/>\n",
       "<polygon fill=\"#ff0000\" stroke=\"#ff0000\" points=\"938.41,-131.6 945.88,-124.08 935.35,-125.3 938.41,-131.6\"/>\n",
       "<text text-anchor=\"middle\" x=\"913.74\" y=\"-145.7\" font-family=\"Times,serif\" font-size=\"14.00\">no</text>\n",
       "</g>\n",
       "<!-- 7 -->\n",
       "<g id=\"node6\" class=\"node\">\n",
       "<title>7</title>\n",
       "<ellipse fill=\"none\" stroke=\"black\" cx=\"78.99\" cy=\"-18\" rx=\"78.99\" ry=\"18\"/>\n",
       "<text text-anchor=\"middle\" x=\"78.99\" y=\"-12.95\" font-family=\"Times,serif\" font-size=\"14.00\">leaf=0.356114149</text>\n",
       "</g>\n",
       "<!-- 3&#45;&gt;7 -->\n",
       "<g id=\"edge5\" class=\"edge\">\n",
       "<title>3&#45;&gt;7</title>\n",
       "<path fill=\"none\" stroke=\"#0000ff\" d=\"M225.57,-89.84C196.61,-75.84 153.95,-55.23 122.12,-39.84\"/>\n",
       "<polygon fill=\"#0000ff\" stroke=\"#0000ff\" points=\"123.66,-36.7 113.13,-35.5 120.61,-43 123.66,-36.7\"/>\n",
       "<text text-anchor=\"middle\" x=\"219.11\" y=\"-57.2\" font-family=\"Times,serif\" font-size=\"14.00\">yes, missing</text>\n",
       "</g>\n",
       "<!-- 8 -->\n",
       "<g id=\"node7\" class=\"node\">\n",
       "<title>8</title>\n",
       "<ellipse fill=\"none\" stroke=\"black\" cx=\"257.99\" cy=\"-18\" rx=\"82.06\" ry=\"18\"/>\n",
       "<text text-anchor=\"middle\" x=\"257.99\" y=\"-12.95\" font-family=\"Times,serif\" font-size=\"14.00\">leaf=&#45;0.524771035</text>\n",
       "</g>\n",
       "<!-- 3&#45;&gt;8 -->\n",
       "<g id=\"edge6\" class=\"edge\">\n",
       "<title>3&#45;&gt;8</title>\n",
       "<path fill=\"none\" stroke=\"#ff0000\" d=\"M257.99,-88.41C257.99,-76.76 257.99,-61.05 257.99,-47.52\"/>\n",
       "<polygon fill=\"#ff0000\" stroke=\"#ff0000\" points=\"261.49,-47.86 257.99,-37.86 254.49,-47.86 261.49,-47.86\"/>\n",
       "<text text-anchor=\"middle\" x=\"264.74\" y=\"-57.2\" font-family=\"Times,serif\" font-size=\"14.00\">no</text>\n",
       "</g>\n",
       "<!-- 9 -->\n",
       "<g id=\"node8\" class=\"node\">\n",
       "<title>9</title>\n",
       "<ellipse fill=\"none\" stroke=\"black\" cx=\"436.99\" cy=\"-18\" rx=\"78.99\" ry=\"18\"/>\n",
       "<text text-anchor=\"middle\" x=\"436.99\" y=\"-12.95\" font-family=\"Times,serif\" font-size=\"14.00\">leaf=0.817981839</text>\n",
       "</g>\n",
       "<!-- 4&#45;&gt;9 -->\n",
       "<g id=\"edge7\" class=\"edge\">\n",
       "<title>4&#45;&gt;9</title>\n",
       "<path fill=\"none\" stroke=\"#0000ff\" d=\"M529.28,-89.03C511.96,-75.88 487.47,-57.3 468.07,-42.58\"/>\n",
       "<polygon fill=\"#0000ff\" stroke=\"#0000ff\" points=\"470.3,-39.88 460.21,-36.62 466.06,-45.45 470.3,-39.88\"/>\n",
       "<text text-anchor=\"middle\" x=\"539.11\" y=\"-57.2\" font-family=\"Times,serif\" font-size=\"14.00\">yes, missing</text>\n",
       "</g>\n",
       "<!-- 10 -->\n",
       "<g id=\"node9\" class=\"node\">\n",
       "<title>10</title>\n",
       "<ellipse fill=\"none\" stroke=\"black\" cx=\"617.99\" cy=\"-18\" rx=\"83.6\" ry=\"18\"/>\n",
       "<text text-anchor=\"middle\" x=\"617.99\" y=\"-12.95\" font-family=\"Times,serif\" font-size=\"14.00\">leaf=0.0908343568</text>\n",
       "</g>\n",
       "<!-- 4&#45;&gt;10 -->\n",
       "<g id=\"edge8\" class=\"edge\">\n",
       "<title>4&#45;&gt;10</title>\n",
       "<path fill=\"none\" stroke=\"#ff0000\" d=\"M564.23,-88.41C573.86,-75.97 587.08,-58.91 598,-44.81\"/>\n",
       "<polygon fill=\"#ff0000\" stroke=\"#ff0000\" points=\"600.5,-47.3 603.85,-37.25 594.96,-43.01 600.5,-47.3\"/>\n",
       "<text text-anchor=\"middle\" x=\"597.74\" y=\"-57.2\" font-family=\"Times,serif\" font-size=\"14.00\">no</text>\n",
       "</g>\n",
       "<!-- 11 -->\n",
       "<g id=\"node12\" class=\"node\">\n",
       "<title>11</title>\n",
       "<ellipse fill=\"none\" stroke=\"black\" cx=\"801.99\" cy=\"-18\" rx=\"82.06\" ry=\"18\"/>\n",
       "<text text-anchor=\"middle\" x=\"801.99\" y=\"-12.95\" font-family=\"Times,serif\" font-size=\"14.00\">leaf=&#45;0.345414221</text>\n",
       "</g>\n",
       "<!-- 5&#45;&gt;11 -->\n",
       "<g id=\"edge11\" class=\"edge\">\n",
       "<title>5&#45;&gt;11</title>\n",
       "<path fill=\"none\" stroke=\"#0000ff\" d=\"M801.99,-88.41C801.99,-76.76 801.99,-61.05 801.99,-47.52\"/>\n",
       "<polygon fill=\"#0000ff\" stroke=\"#0000ff\" points=\"805.49,-47.86 801.99,-37.86 798.49,-47.86 805.49,-47.86\"/>\n",
       "<text text-anchor=\"middle\" x=\"836.11\" y=\"-57.2\" font-family=\"Times,serif\" font-size=\"14.00\">yes, missing</text>\n",
       "</g>\n",
       "<!-- 12 -->\n",
       "<g id=\"node13\" class=\"node\">\n",
       "<title>12</title>\n",
       "<ellipse fill=\"none\" stroke=\"black\" cx=\"980.99\" cy=\"-18\" rx=\"78.99\" ry=\"18\"/>\n",
       "<text text-anchor=\"middle\" x=\"980.99\" y=\"-12.95\" font-family=\"Times,serif\" font-size=\"14.00\">leaf=0.189670518</text>\n",
       "</g>\n",
       "<!-- 5&#45;&gt;12 -->\n",
       "<g id=\"edge12\" class=\"edge\">\n",
       "<title>5&#45;&gt;12</title>\n",
       "<path fill=\"none\" stroke=\"#ff0000\" d=\"M834.4,-89.84C863.37,-75.84 906.02,-55.23 937.86,-39.84\"/>\n",
       "<polygon fill=\"#ff0000\" stroke=\"#ff0000\" points=\"939.37,-43 946.85,-35.5 936.32,-36.7 939.37,-43\"/>\n",
       "<text text-anchor=\"middle\" x=\"914.74\" y=\"-57.2\" font-family=\"Times,serif\" font-size=\"14.00\">no</text>\n",
       "</g>\n",
       "</g>\n",
       "</svg>\n"
      ],
      "text/plain": [
       "<graphviz.sources.Source at 0x1546dd710>"
      ]
     },
     "execution_count": 9,
     "metadata": {},
     "output_type": "execute_result"
    }
   ],
   "source": [
    "\n",
    "tree_index = 10\n",
    "\n",
    "# Get the DOT data for the chosen tree with feature names\n",
    "dot_data = xgb.to_graphviz(best_xgb_classifier, num_trees=tree_index, feature_names=features).source\n",
    "\n",
    "# Replace the default feature names in the DOT data\n",
    "for feature_name in features:\n",
    "    dot_data = dot_data.replace(f'f{features.get_loc(feature_name)}', feature_name)\n",
    "\n",
    "# Display the decision tree directly in the notebook\n",
    "Source(dot_data)"
   ]
  },
  {
   "cell_type": "code",
   "execution_count": 10,
   "id": "f79b38f7-290a-4085-a82c-6fdc3ddad70f",
   "metadata": {
    "tags": []
   },
   "outputs": [
    {
     "name": "stdout",
     "output_type": "stream",
     "text": [
      "Best Parameters: {'C': 5, 'gamma': 0.001, 'kernel': 'sigmoid'}\n",
      "Accuracy: 0.6667\n",
      "Precision: 0.7143\n",
      "Recall: 0.5556\n"
     ]
    }
   ],
   "source": [
    "# SVM\n",
    "# Define the parameter grid\n",
    "param_grid = {'C': [ 3,4,5], 'gamma': [0.1,0.2, 0.25,.001], 'kernel': ['linear', 'poly', 'sigmoid']}\n",
    "\n",
    "# Initialize SVM classifier\n",
    "svm_classifier = SVC(random_state=42)\n",
    "\n",
    "# Initialize GridSearchCV\n",
    "grid_search = GridSearchCV(estimator=svm_classifier, param_grid=param_grid, cv=10, scoring='accuracy')\n",
    "\n",
    "# Fit the grid search to the data\n",
    "grid_search.fit(X_train_lda, y_train)\n",
    "\n",
    "# Get the best parameters\n",
    "best_params = grid_search.best_params_\n",
    "\n",
    "print(f'Best Parameters: {best_params}')\n",
    "\n",
    "# Use the best model for predictions\n",
    "best_svm_classifier = grid_search.best_estimator_\n",
    "y_pred = best_svm_classifier.predict(X_test_lda)\n",
    "\n",
    "# Calculate evaluation metrics\n",
    "accuracy = accuracy_score(y_test_numpy, y_pred)\n",
    "precision = precision_score(y_test_numpy, y_pred, zero_division=1)\n",
    "recall = recall_score(y_test_numpy, y_pred)\n",
    "\n",
    "# Output the metrics\n",
    "print(f'Accuracy: {accuracy:.4f}')\n",
    "print(f'Precision: {precision:.4f}')\n",
    "print(f'Recall: {recall:.4f}')\n",
    "\n",
    "conf_matrix_SVM = confusion_matrix(y_test_numpy, y_pred)\n",
    "\n",
    "\n"
   ]
  },
  {
   "cell_type": "code",
   "execution_count": 11,
   "id": "3b69e095-d86c-4f04-8a54-b4935f585a30",
   "metadata": {
    "tags": []
   },
   "outputs": [
    {
     "data": {
      "image/png": "[encoded data removed]",
      "text/plain": [
       "<Figure size 640x480 with 1 Axes>"
      ]
     },
     "metadata": {},
     "output_type": "display_data"
    }
   ],
   "source": [
    "# Plot confusion matrix using seaborn\n",
    "#conf_matrix_percentage = conf_matrix / len(y_test) * 100\n",
    "\n",
    "sns.heatmap(conf_matrix_SVM / len(y_test_numpy) * 100, annot=True, fmt='.2f', cmap='Blues', cbar=False,\n",
    "            xticklabels=['Predicted 0', 'Predicted 1'],\n",
    "            yticklabels=['Actual 0', 'Actual 1'])\n",
    "plt.xlabel('Predicted')\n",
    "plt.ylabel('Actual')\n",
    "plt.title('Confusion Matrix (Percentage)')\n",
    "plt.show()"
   ]
  },
  {
   "cell_type": "code",
   "execution_count": null,
   "id": "86284e94-511d-4a60-a729-beb1630aa9aa",
   "metadata": {},
   "outputs": [],
   "source": []
  }
 ],
 "metadata": {
  "kernelspec": {
   "display_name": "Python",
   "language": "python",
   "name": "your_env_name"
  },
  "language_info": {
   "codemirror_mode": {
    "name": "ipython",
    "version": 3
   },
   "file_extension": ".py",
   "mimetype": "text/x-python",
   "name": "python",
   "nbconvert_exporter": "python",
   "pygments_lexer": "ipython3",
   "version": "3.11.4"
  }
 },
 "nbformat": 4,
 "nbformat_minor": 5
}
