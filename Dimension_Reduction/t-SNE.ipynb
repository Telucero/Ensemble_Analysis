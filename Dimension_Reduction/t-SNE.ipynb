{
 "cells": [
  {
   "cell_type": "markdown",
   "id": "0e837631-d24a-4445-ac62-cf3cb00b6992",
   "metadata": {},
   "source": [
    "# T-SNE\n",
    "t-distributed Stochastic Neighbor Embedding (t-SNE) is a technique used for visualizing high-dimensional data in a lower-dimensional space, typically 2D or 3D. It is particularly effective in revealing the underlying structure and patterns within complex datasets.\n",
    "\n",
    "Here's an explanation of how t-SNE works:\n",
    "\n",
    "Compute Similarities: For each pair of high-dimensional data points, calculate their similarity based on a Gaussian probability distribution centered on each data point. This results in a similarity matrix that quantifies how similar or dissimilar each pair of points is.\n",
    "\n",
    "Initialize Low-Dimensional Embedding: Randomly initialize the low-dimensional embedding for the data points. Typically, this embedding is in 2D or 3D space.\n",
    "\n",
    "Compute Similarities in Low-Dimensional Space: Similarly, compute the similarities between data points in the low-dimensional embedding using the same Gaussian probability distribution.\n",
    "\n",
    "Compute Similarity Distribution: Convert the similarities in the low-dimensional space into a probability distribution using a Student's t-distribution with one degree of freedom. This distribution represents the probability that two points are neighbors in the low-dimensional space, given their pairwise similarities.\n",
    "\n",
    "Minimize Kullback-Leibler Divergence: Adjust the positions of the data points in the low-dimensional embedding to minimize the difference between the high-dimensional similarity distribution and the low-dimensional similarity distribution. This is achieved by minimizing the Kullback-Leibler divergence between the two distributions using gradient descent or other optimization techniques.\n",
    "\n",
    "Iterate: Iterate steps 3-5 until the low-dimensional embedding stabilizes or a maximum number of iterations is reached.\n",
    "\n",
    "t-SNE effectively preserves the local structure of the data, meaning that nearby points in the high-dimensional space are likely to remain close to each other in the low-dimensional embedding. However, it does not necessarily preserve the global structure, so distant points in the high-dimensional space may not retain their distances in the low-dimensional embedding.\n",
    "\n",
    "Overall, t-SNE is a powerful tool for visualizing complex datasets and revealing underlying patterns, clusters, and relationships between data points"
   ]
  },
  {
   "cell_type": "markdown",
   "id": "140ed16c-df4c-4df8-ad9f-39e66211bbae",
   "metadata": {},
   "source": [
    "SimpleNN:\n",
    "Accuracy: 0.6667\n",
    "Precision: 0.5000\n",
    "Recall: 0.7500\n",
    "\n",
    "XGBoost:\n",
    "Accuracy: 0.7500\n",
    "T Precision: 1.0000\n",
    "Test Recall: 0.2500\n",
    "\n",
    "SVC: \n",
    "Accuracy: 0.7500\n",
    "Precision: 1.0000\n",
    "Recall: 0.2500\n",
    "\n",
    "SimpleNN with PCA :\n",
    "Accuracy: 0.6111\n",
    "Precision: 0.5833\n",
    "Recall: 0.7778\n",
    "\n",
    "XGBoost with PCA:\n",
    "Accuracy: 0.5000\n",
    "Precision: 0.5000\n",
    "Recall: 1.0000\n",
    "\n",
    "SVC with PCA:\n",
    "Accuracy: 0.6111\n",
    "Precision: 0.6250\n",
    "Recall: 0.5556\n"
   ]
  },
  {
   "cell_type": "markdown",
   "id": "fad3a068-3d86-46cd-b3ab-b9f46f8b7f5c",
   "metadata": {},
   "source": [
    "The comparison between original models and models applied with Principal Component Analysis (PCA) reveals varying impacts on performance metrics such as accuracy, precision, and recall. Firstly, in the case of the SimpleNN model, it is evident that the original model exhibits superior performance across all metrics compared to the model with PCA. This suggests that the PCA transformation did not contribute positively to the SimpleNN model's performance, indicating that the original feature space might already capture relevant information efficiently.\n",
    "\n",
    "Moving to the XGBoost model, a stark contrast in performance is observed between the original and PCA-applied models. The original XGBoost model significantly outperforms its PCA counterpart in terms of accuracy and recall. Interestingly, while the precision remains unchanged between the two models, the PCA-applied XGBoost model suffers from a notable decline in accuracy and recall, indicating that the PCA transformation might have obscured certain important features crucial for classification.\n",
    "\n",
    "Similarly, with the Support Vector Classifier (SVC), the original model showcases higher accuracy and precision compared to the PCA-applied model. However, the PCA-applied SVC model demonstrates a slightly higher recall. Despite this, the overall performance of the original SVC model remains superior. This suggests that the PCA transformation might have introduced noise or reduced the discriminative power of the features, impacting the model's ability to correctly classify instances.\n",
    "\n",
    "Overall, the inferior performance of models with PCA compared to their original counterparts highlights the importance of careful consideration when applying dimensionality reduction techniques like PCA. While PCA can help mitigate issues related to multicollinearity and reduce computational complexity, its indiscriminate application can sometimes lead to information loss or distortion of feature relationships, as evidenced by the observed degradation in model performance. Hence, it's essential to evaluate the trade-offs between dimensionality reduction and model performance on a case-by-case basis to determine the most effective approach for a given dataset and modeling task.\n"
   ]
  },
  {
   "cell_type": "code",
   "execution_count": 1,
   "id": "b257c167-b368-42fb-bc1a-96d304c2852d",
   "metadata": {
    "tags": []
   },
   "outputs": [],
   "source": [
    "import torch\n",
    "import torch.nn as nn\n",
    "import torch.optim as optim\n",
    "from torch.optim import lr_scheduler\n",
    "from torch.utils.data import TensorDataset, DataLoader\n",
    "import torch.nn.functional as F\n",
    "import pandas as pd\n",
    "from tqdm.notebook import tqdm\n",
    "from sklearn.compose import ColumnTransformer\n",
    "from sklearn.impute import SimpleImputer\n",
    "from sklearn.preprocessing import StandardScaler, OneHotEncoder, MinMaxScaler\n",
    "from sklearn.pipeline import Pipeline\n",
    "from sklearn.manifold import TSNE  # Import t-SNE\n",
    "from sklearn.model_selection import train_test_split\n",
    "from sklearn.svm import SVC\n",
    "from sklearn.metrics import confusion_matrix, accuracy_score, precision_score, recall_score\n",
    "from imblearn.over_sampling import SMOTE\n",
    "from imblearn.pipeline import make_pipeline\n",
    "from xgboost import XGBClassifier\n",
    "import seaborn as sns\n",
    "import matplotlib.pyplot as plt\n",
    "import xgboost as xgb\n",
    "from graphviz import Source\n",
    "from sklearn.linear_model import LogisticRegression\n",
    "from sklearn.model_selection import GridSearchCV\n",
    "import numpy as np\n",
    "import random\n",
    "\n",
    "# Set a seed for reproducibility\n",
    "seed = 42\n",
    "torch.manual_seed(seed)\n",
    "random.seed(seed)\n",
    "np.random.seed(seed)\n",
    "\n",
    "COMPONENTS = 3"
   ]
  },
  {
   "cell_type": "code",
   "execution_count": 2,
   "id": "069e4376-7bd1-469e-a9a2-9b41b692b5a7",
   "metadata": {
    "tags": []
   },
   "outputs": [],
   "source": [
    "df = pd.read_csv('../heart_failure_clinical_records_dataset.csv')"
   ]
  },
  {
   "cell_type": "code",
   "execution_count": 3,
   "id": "37019cd7-612a-4492-9663-9e5ccfbc8ca0",
   "metadata": {
    "tags": []
   },
   "outputs": [],
   "source": [
    "target = 'DEATH_EVENT'\n",
    "features = df.columns[df.columns != target]"
   ]
  },
  {
   "cell_type": "code",
   "execution_count": 4,
   "id": "3b2d54e6-f5e9-44c3-b21e-9569763d948f",
   "metadata": {
    "tags": []
   },
   "outputs": [
    {
     "name": "stdout",
     "output_type": "stream",
     "text": [
      "Class distribution:\n",
      "0    203\n",
      "1     96\n",
      "Name: DEATH_EVENT, dtype: int64\n"
     ]
    }
   ],
   "source": [
    "# List of columns to be standardized\n",
    "columns_to_standardize = df.columns.difference(['anemia', 'diabetes', 'high_blood_pressure', 'sex', 'smoking', 'DEATH_EVENT'])\n",
    "\n",
    "# Instantiate StandardScaler\n",
    "scaler = StandardScaler()\n",
    "\n",
    "# Fit and transform the selected columns\n",
    "df[columns_to_standardize] = scaler.fit_transform(df[columns_to_standardize])\n",
    "\n",
    "class_counts = df['DEATH_EVENT'].value_counts()\n",
    "print(f\"Class distribution:\\n{class_counts}\")"
   ]
  },
  {
   "cell_type": "code",
   "execution_count": 5,
   "id": "e317e4e9-96db-49ab-94e3-7fbae8c4efcb",
   "metadata": {
    "tags": []
   },
   "outputs": [],
   "source": [
    "# Split dataset into train, validation, and test\n",
    "df_train, df_temp = train_test_split(df, test_size=0.3, random_state=42)\n",
    "df_val, df_test = train_test_split(df_temp, test_size=0.2, random_state=42)"
   ]
  },
  {
   "cell_type": "code",
   "execution_count": 6,
   "id": "03678546-c8d4-4755-9bc8-3a17e71f9b26",
   "metadata": {
    "tags": []
   },
   "outputs": [
    {
     "name": "stderr",
     "output_type": "stream",
     "text": [
      "/Users/taylorlucero/anaconda3/envs/Thesis/lib/python3.11/site-packages/threadpoolctl.py:1010: RuntimeWarning: \n",
      "Found Intel OpenMP ('libiomp') and LLVM OpenMP ('libomp') loaded at\n",
      "the same time. Both libraries are known to be incompatible and this\n",
      "can cause random crashes or deadlocks on Linux when loaded in the\n",
      "same Python program.\n",
      "Using threadpoolctl may cause crashes or deadlocks. For more\n",
      "information and possible workarounds, please see\n",
      "    https://github.com/joblib/threadpoolctl/blob/master/multiple_openmp.md\n",
      "\n",
      "  warnings.warn(msg, RuntimeWarning)\n"
     ]
    }
   ],
   "source": [
    "# Extract features and target variable\n",
    "X_train = df_train.drop('DEATH_EVENT', axis=1).values\n",
    "y_train = df_train['DEATH_EVENT'].values\n",
    "\n",
    "# Apply SMOTE to balance the class distribution\n",
    "smote = SMOTE(random_state=42)\n",
    "X_train, y_train = smote.fit_resample(X_train, y_train)\n",
    "\n",
    "# Apply t-SNE on the training set\n",
    "tsne = TSNE(n_components=COMPONENTS, perplexity=17,random_state=42)  \n",
    "X_train_tsne = tsne.fit_transform(X_train)\n",
    "\n",
    "# Transform validation and test sets using the same t-SNE instance\n",
    "X_val_tsne = tsne.fit_transform(df_val.drop('DEATH_EVENT', axis=1).values)\n",
    "X_test_tsne = tsne.fit_transform(df_test.drop('DEATH_EVENT', axis=1).values)\n",
    "\n",
    "# Convert data to PyTorch tensors\n",
    "X_train_tensor = torch.tensor(X_train_tsne, dtype=torch.float32)\n",
    "y_train_tensor = torch.tensor(y_train, dtype=torch.float32)\n",
    "\n",
    "X_val_tensor = torch.tensor(X_val_tsne, dtype=torch.float32)\n",
    "y_val_tensor = torch.tensor(df_val['DEATH_EVENT'].values, dtype=torch.float32)\n",
    "\n",
    "X_test_tensor = torch.tensor(X_test_tsne, dtype=torch.float32)\n",
    "y_test_tensor = torch.tensor(df_test['DEATH_EVENT'].values, dtype=torch.float32)\n"
   ]
  },
  {
   "cell_type": "code",
   "execution_count": 7,
   "id": "1c892e3d-bb68-404b-8fcf-f52b21e1efbd",
   "metadata": {
    "tags": []
   },
   "outputs": [],
   "source": [
    "# Create DataLoader\n",
    "train_dataset = TensorDataset(X_train_tensor, y_train_tensor)\n",
    "train_loader = DataLoader(train_dataset, batch_size=64, shuffle=True)\n",
    "\n",
    "val_dataset = TensorDataset(X_val_tensor, y_val_tensor)\n",
    "val_loader = DataLoader(val_dataset, batch_size=64, shuffle=False)\n",
    "\n",
    "test_dataset = TensorDataset(X_test_tensor, y_test_tensor)\n",
    "test_loader = DataLoader(test_dataset, batch_size=64, shuffle=False)"
   ]
  },
  {
   "cell_type": "code",
   "execution_count": 8,
   "id": "a09b9b1f-7917-4176-bff6-0170f6459a58",
   "metadata": {
    "tags": []
   },
   "outputs": [],
   "source": [
    "class SimpleNN(nn.Module):\n",
    "    def __init__(self, input_size, hidden_size1, hidden_size2, hidden_size3, output_size, dropout_rate=0.2):\n",
    "        super(SimpleNN, self).__init__()\n",
    "        self.fc1 = nn.Linear(input_size, hidden_size1)\n",
    "        self.relu1 = nn.ReLU()\n",
    "        self.dropout1 = nn.Dropout(p=dropout_rate)\n",
    "        self.fc2 = nn.Linear(hidden_size1, hidden_size2)\n",
    "        self.relu2 = nn.ReLU()\n",
    "        self.dropout2 = nn.Dropout(p=dropout_rate)\n",
    "        self.fc3 = nn.Linear(hidden_size2, hidden_size3)\n",
    "        self.relu3 = nn.ReLU()\n",
    "        self.dropout3 = nn.Dropout(p=dropout_rate)\n",
    "        self.fc4 = nn.Linear(hidden_size3, output_size)\n",
    "\n",
    "    def forward(self, x):\n",
    "        x = self.relu1(self.fc1(x))\n",
    "        x = self.dropout1(x)\n",
    "        x = self.relu2(self.fc2(x))\n",
    "        x = self.dropout2(x)\n",
    "        x = self.relu3(self.fc3(x))\n",
    "        x = self.dropout3(x)\n",
    "        x = self.fc4(x)  # No sigmoid here\n",
    "        return x\n"
   ]
  },
  {
   "cell_type": "code",
   "execution_count": 9,
   "id": "640b3a25-bbea-475a-ad4e-b6857f2db26e",
   "metadata": {},
   "outputs": [],
   "source": [
    "# Initialize model, loss, and optimizer with weight decay\n",
    "model = SimpleNN(input_size=COMPONENTS, hidden_size1=20, hidden_size2=10, hidden_size3=2, output_size=1)\n",
    "criterion = nn.BCEWithLogitsLoss()"
   ]
  },
  {
   "cell_type": "code",
   "execution_count": 25,
   "id": "838cc56a-4bcf-4eaa-b7b4-e1e68300d03d",
   "metadata": {},
   "outputs": [
    {
     "data": {
      "application/vnd.jupyter.widget-view+json": {
       "model_id": "9382571865a8467cb365a210a9fd0315",
       "version_major": 2,
       "version_minor": 0
      },
      "text/plain": [
       "Training Epoch 1:   0%|          | 0/5 [00:00<?, ?it/s]"
      ]
     },
     "metadata": {},
     "output_type": "display_data"
    },
    {
     "name": "stdout",
     "output_type": "stream",
     "text": [
      "Training Epoch 1, Loss: 1.2669437885284425, Accuracy: 0.4866666666666667%\n"
     ]
    },
    {
     "data": {
      "application/vnd.jupyter.widget-view+json": {
       "model_id": "d2bafbf7cbe24ac39608ccd42908b9d9",
       "version_major": 2,
       "version_minor": 0
      },
      "text/plain": [
       "Validation:   0%|          | 0/2 [00:00<?, ?it/s]"
      ]
     },
     "metadata": {},
     "output_type": "display_data"
    },
    {
     "name": "stdout",
     "output_type": "stream",
     "text": [
      "Validation Epoch 1, Val Loss: 4.962177157402039, Val Accuracy: 0.1111111111111111\n"
     ]
    },
    {
     "data": {
      "application/vnd.jupyter.widget-view+json": {
       "model_id": "de6faa9556ca42ecb6558df12f47079a",
       "version_major": 2,
       "version_minor": 0
      },
      "text/plain": [
       "Training Epoch 2:   0%|          | 0/5 [00:00<?, ?it/s]"
      ]
     },
     "metadata": {},
     "output_type": "display_data"
    },
    {
     "name": "stdout",
     "output_type": "stream",
     "text": [
      "Training Epoch 2, Loss: 1.0658666849136353, Accuracy: 0.35333333333333333%\n"
     ]
    },
    {
     "data": {
      "application/vnd.jupyter.widget-view+json": {
       "model_id": "32b9bfac0233423b86ac5e93e7e88fb2",
       "version_major": 2,
       "version_minor": 0
      },
      "text/plain": [
       "Validation:   0%|          | 0/2 [00:00<?, ?it/s]"
      ]
     },
     "metadata": {},
     "output_type": "display_data"
    },
    {
     "name": "stdout",
     "output_type": "stream",
     "text": [
      "Validation Epoch 2, Val Loss: 7.759395122528076, Val Accuracy: 0.19444444444444445\n"
     ]
    },
    {
     "data": {
      "application/vnd.jupyter.widget-view+json": {
       "model_id": "12ccd2657f8a427d8a5ac8e0ef1718c5",
       "version_major": 2,
       "version_minor": 0
      },
      "text/plain": [
       "Training Epoch 3:   0%|          | 0/5 [00:00<?, ?it/s]"
      ]
     },
     "metadata": {},
     "output_type": "display_data"
    },
    {
     "name": "stdout",
     "output_type": "stream",
     "text": [
      "Training Epoch 3, Loss: 0.9471753478050232, Accuracy: 0.18%\n"
     ]
    },
    {
     "data": {
      "application/vnd.jupyter.widget-view+json": {
       "model_id": "570a361b224644589b634ac4ec0b02f8",
       "version_major": 2,
       "version_minor": 0
      },
      "text/plain": [
       "Validation:   0%|          | 0/2 [00:00<?, ?it/s]"
      ]
     },
     "metadata": {},
     "output_type": "display_data"
    },
    {
     "name": "stdout",
     "output_type": "stream",
     "text": [
      "Validation Epoch 3, Val Loss: 17.550599336624146, Val Accuracy: 0.16666666666666666\n"
     ]
    },
    {
     "data": {
      "application/vnd.jupyter.widget-view+json": {
       "model_id": "f1d8e0dca5484a678999376c6c5640c5",
       "version_major": 2,
       "version_minor": 0
      },
      "text/plain": [
       "Training Epoch 4:   0%|          | 0/5 [00:00<?, ?it/s]"
      ]
     },
     "metadata": {},
     "output_type": "display_data"
    },
    {
     "name": "stdout",
     "output_type": "stream",
     "text": [
      "Training Epoch 4, Loss: 0.9390035629272461, Accuracy: 0.11%\n"
     ]
    },
    {
     "data": {
      "application/vnd.jupyter.widget-view+json": {
       "model_id": "8a8c849e23264b41ab62eac23b256bdd",
       "version_major": 2,
       "version_minor": 0
      },
      "text/plain": [
       "Validation:   0%|          | 0/2 [00:00<?, ?it/s]"
      ]
     },
     "metadata": {},
     "output_type": "display_data"
    },
    {
     "name": "stdout",
     "output_type": "stream",
     "text": [
      "Validation Epoch 4, Val Loss: 10.450736165046692, Val Accuracy: 0.1527777777777778\n"
     ]
    },
    {
     "data": {
      "application/vnd.jupyter.widget-view+json": {
       "model_id": "9b22ed6ec4da4705b57e4f18267a3a6d",
       "version_major": 2,
       "version_minor": 0
      },
      "text/plain": [
       "Training Epoch 5:   0%|          | 0/5 [00:00<?, ?it/s]"
      ]
     },
     "metadata": {},
     "output_type": "display_data"
    },
    {
     "name": "stdout",
     "output_type": "stream",
     "text": [
      "Training Epoch 5, Loss: 0.9028318524360657, Accuracy: 0.45666666666666667%\n"
     ]
    },
    {
     "data": {
      "application/vnd.jupyter.widget-view+json": {
       "model_id": "1fca6e6ce8504f9bb70e4bc0913b4f70",
       "version_major": 2,
       "version_minor": 0
      },
      "text/plain": [
       "Validation:   0%|          | 0/2 [00:00<?, ?it/s]"
      ]
     },
     "metadata": {},
     "output_type": "display_data"
    },
    {
     "name": "stdout",
     "output_type": "stream",
     "text": [
      "Validation Epoch 5, Val Loss: 10.95995807647705, Val Accuracy: 0.06944444444444445\n"
     ]
    },
    {
     "data": {
      "application/vnd.jupyter.widget-view+json": {
       "model_id": "9b3130d609f94310b08a24616c70f114",
       "version_major": 2,
       "version_minor": 0
      },
      "text/plain": [
       "Training Epoch 6:   0%|          | 0/5 [00:00<?, ?it/s]"
      ]
     },
     "metadata": {},
     "output_type": "display_data"
    },
    {
     "name": "stdout",
     "output_type": "stream",
     "text": [
      "Training Epoch 6, Loss: 0.8349842190742492, Accuracy: 0.25666666666666665%\n"
     ]
    },
    {
     "data": {
      "application/vnd.jupyter.widget-view+json": {
       "model_id": "1f24bed5b5894c8684a8dcac7d682250",
       "version_major": 2,
       "version_minor": 0
      },
      "text/plain": [
       "Validation:   0%|          | 0/2 [00:00<?, ?it/s]"
      ]
     },
     "metadata": {},
     "output_type": "display_data"
    },
    {
     "name": "stdout",
     "output_type": "stream",
     "text": [
      "Validation Epoch 6, Val Loss: 17.608975410461426, Val Accuracy: 0.027777777777777776\n"
     ]
    },
    {
     "data": {
      "application/vnd.jupyter.widget-view+json": {
       "model_id": "e88c37dac67f4b8083469dd38317d3ee",
       "version_major": 2,
       "version_minor": 0
      },
      "text/plain": [
       "Training Epoch 7:   0%|          | 0/5 [00:00<?, ?it/s]"
      ]
     },
     "metadata": {},
     "output_type": "display_data"
    },
    {
     "name": "stdout",
     "output_type": "stream",
     "text": [
      "Training Epoch 7, Loss: 0.8027251482009887, Accuracy: 0.19333333333333333%\n"
     ]
    },
    {
     "data": {
      "application/vnd.jupyter.widget-view+json": {
       "model_id": "a81d347c0bd347a69f9c91d0f5ca25eb",
       "version_major": 2,
       "version_minor": 0
      },
      "text/plain": [
       "Validation:   0%|          | 0/2 [00:00<?, ?it/s]"
      ]
     },
     "metadata": {},
     "output_type": "display_data"
    },
    {
     "name": "stdout",
     "output_type": "stream",
     "text": [
      "Validation Epoch 7, Val Loss: 14.189894199371338, Val Accuracy: 0.041666666666666664\n"
     ]
    },
    {
     "data": {
      "application/vnd.jupyter.widget-view+json": {
       "model_id": "dfdb109cc42d4636a7a5bb4c408acb1e",
       "version_major": 2,
       "version_minor": 0
      },
      "text/plain": [
       "Training Epoch 8:   0%|          | 0/5 [00:00<?, ?it/s]"
      ]
     },
     "metadata": {},
     "output_type": "display_data"
    },
    {
     "name": "stdout",
     "output_type": "stream",
     "text": [
      "Training Epoch 8, Loss: 0.7727927684783935, Accuracy: 0.21333333333333335%\n"
     ]
    },
    {
     "data": {
      "application/vnd.jupyter.widget-view+json": {
       "model_id": "46c3b146d1a64b94b7cb35552671e0e0",
       "version_major": 2,
       "version_minor": 0
      },
      "text/plain": [
       "Validation:   0%|          | 0/2 [00:00<?, ?it/s]"
      ]
     },
     "metadata": {},
     "output_type": "display_data"
    },
    {
     "name": "stdout",
     "output_type": "stream",
     "text": [
      "Validation Epoch 8, Val Loss: 10.89004135131836, Val Accuracy: 0.041666666666666664\n"
     ]
    },
    {
     "data": {
      "application/vnd.jupyter.widget-view+json": {
       "model_id": "86def703ccd34c3bbff474c0c156cda1",
       "version_major": 2,
       "version_minor": 0
      },
      "text/plain": [
       "Training Epoch 9:   0%|          | 0/5 [00:00<?, ?it/s]"
      ]
     },
     "metadata": {},
     "output_type": "display_data"
    },
    {
     "name": "stdout",
     "output_type": "stream",
     "text": [
      "Training Epoch 9, Loss: 0.7410101652145386, Accuracy: 0.2966666666666667%\n"
     ]
    },
    {
     "data": {
      "application/vnd.jupyter.widget-view+json": {
       "model_id": "a6a5d48de63d4d8eb524fdb1fe410cb0",
       "version_major": 2,
       "version_minor": 0
      },
      "text/plain": [
       "Validation:   0%|          | 0/2 [00:00<?, ?it/s]"
      ]
     },
     "metadata": {},
     "output_type": "display_data"
    },
    {
     "name": "stdout",
     "output_type": "stream",
     "text": [
      "Validation Epoch 9, Val Loss: 16.593349933624268, Val Accuracy: 0.05555555555555555\n"
     ]
    },
    {
     "data": {
      "application/vnd.jupyter.widget-view+json": {
       "model_id": "b22e7de134304aa7b18d1b7b1a74cf22",
       "version_major": 2,
       "version_minor": 0
      },
      "text/plain": [
       "Training Epoch 10:   0%|          | 0/5 [00:00<?, ?it/s]"
      ]
     },
     "metadata": {},
     "output_type": "display_data"
    },
    {
     "name": "stdout",
     "output_type": "stream",
     "text": [
      "Training Epoch 10, Loss: 0.7470077514648438, Accuracy: 0.15%\n"
     ]
    },
    {
     "data": {
      "application/vnd.jupyter.widget-view+json": {
       "model_id": "7f2c84626e7c4f7fbe073f08511f48a3",
       "version_major": 2,
       "version_minor": 0
      },
      "text/plain": [
       "Validation:   0%|          | 0/2 [00:00<?, ?it/s]"
      ]
     },
     "metadata": {},
     "output_type": "display_data"
    },
    {
     "name": "stdout",
     "output_type": "stream",
     "text": [
      "Validation Epoch 10, Val Loss: 22.30601406097412, Val Accuracy: 0.0\n"
     ]
    },
    {
     "data": {
      "application/vnd.jupyter.widget-view+json": {
       "model_id": "2fa63d6b5c684ac395cddd175ac1229f",
       "version_major": 2,
       "version_minor": 0
      },
      "text/plain": [
       "Training Epoch 11:   0%|          | 0/5 [00:00<?, ?it/s]"
      ]
     },
     "metadata": {},
     "output_type": "display_data"
    },
    {
     "name": "stdout",
     "output_type": "stream",
     "text": [
      "Training Epoch 11, Loss: 0.67182297706604, Accuracy: 0.15333333333333332%\n"
     ]
    },
    {
     "data": {
      "application/vnd.jupyter.widget-view+json": {
       "model_id": "fa3f36d71afe456cbbb259d11b496270",
       "version_major": 2,
       "version_minor": 0
      },
      "text/plain": [
       "Validation:   0%|          | 0/2 [00:00<?, ?it/s]"
      ]
     },
     "metadata": {},
     "output_type": "display_data"
    },
    {
     "name": "stdout",
     "output_type": "stream",
     "text": [
      "Validation Epoch 11, Val Loss: 15.629993438720703, Val Accuracy: 0.013888888888888888\n"
     ]
    },
    {
     "data": {
      "application/vnd.jupyter.widget-view+json": {
       "model_id": "fafd5ceedff845f7a07454675d8acf30",
       "version_major": 2,
       "version_minor": 0
      },
      "text/plain": [
       "Training Epoch 12:   0%|          | 0/5 [00:00<?, ?it/s]"
      ]
     },
     "metadata": {},
     "output_type": "display_data"
    },
    {
     "name": "stdout",
     "output_type": "stream",
     "text": [
      "Training Epoch 12, Loss: 0.6698960661888123, Accuracy: 0.24666666666666667%\n"
     ]
    },
    {
     "data": {
      "application/vnd.jupyter.widget-view+json": {
       "model_id": "fcff994fa77a45adba0beb01db744179",
       "version_major": 2,
       "version_minor": 0
      },
      "text/plain": [
       "Validation:   0%|          | 0/2 [00:00<?, ?it/s]"
      ]
     },
     "metadata": {},
     "output_type": "display_data"
    },
    {
     "name": "stdout",
     "output_type": "stream",
     "text": [
      "Validation Epoch 12, Val Loss: 16.195569038391113, Val Accuracy: 0.013888888888888888\n"
     ]
    },
    {
     "data": {
      "application/vnd.jupyter.widget-view+json": {
       "model_id": "8e3b134675cf44f4a4bfe892a2800f0b",
       "version_major": 2,
       "version_minor": 0
      },
      "text/plain": [
       "Training Epoch 13:   0%|          | 0/5 [00:00<?, ?it/s]"
      ]
     },
     "metadata": {},
     "output_type": "display_data"
    },
    {
     "name": "stdout",
     "output_type": "stream",
     "text": [
      "Training Epoch 13, Loss: 0.6403515219688416, Accuracy: 0.17666666666666667%\n"
     ]
    },
    {
     "data": {
      "application/vnd.jupyter.widget-view+json": {
       "model_id": "4b017c47b30b429486a103491597bba6",
       "version_major": 2,
       "version_minor": 0
      },
      "text/plain": [
       "Validation:   0%|          | 0/2 [00:00<?, ?it/s]"
      ]
     },
     "metadata": {},
     "output_type": "display_data"
    },
    {
     "name": "stdout",
     "output_type": "stream",
     "text": [
      "Validation Epoch 13, Val Loss: 21.07530403137207, Val Accuracy: 0.0\n"
     ]
    },
    {
     "data": {
      "application/vnd.jupyter.widget-view+json": {
       "model_id": "9e99d0bee36146b58e2964b697e9683c",
       "version_major": 2,
       "version_minor": 0
      },
      "text/plain": [
       "Training Epoch 14:   0%|          | 0/5 [00:00<?, ?it/s]"
      ]
     },
     "metadata": {},
     "output_type": "display_data"
    },
    {
     "name": "stdout",
     "output_type": "stream",
     "text": [
      "Training Epoch 14, Loss: 0.6743231534957885, Accuracy: 0.13666666666666666%\n"
     ]
    },
    {
     "data": {
      "application/vnd.jupyter.widget-view+json": {
       "model_id": "b759189cd9214af7a41c36616c0b862a",
       "version_major": 2,
       "version_minor": 0
      },
      "text/plain": [
       "Validation:   0%|          | 0/2 [00:00<?, ?it/s]"
      ]
     },
     "metadata": {},
     "output_type": "display_data"
    },
    {
     "name": "stdout",
     "output_type": "stream",
     "text": [
      "Validation Epoch 14, Val Loss: 22.81752109527588, Val Accuracy: 0.0\n"
     ]
    },
    {
     "data": {
      "application/vnd.jupyter.widget-view+json": {
       "model_id": "b3a12fc8d0454b43bbd2aa0989a25376",
       "version_major": 2,
       "version_minor": 0
      },
      "text/plain": [
       "Training Epoch 15:   0%|          | 0/5 [00:00<?, ?it/s]"
      ]
     },
     "metadata": {},
     "output_type": "display_data"
    },
    {
     "name": "stdout",
     "output_type": "stream",
     "text": [
      "Training Epoch 15, Loss: 0.647622573375702, Accuracy: 0.16333333333333333%\n"
     ]
    },
    {
     "data": {
      "application/vnd.jupyter.widget-view+json": {
       "model_id": "331e41c61f3d45c1bd5597b6f05b2bc3",
       "version_major": 2,
       "version_minor": 0
      },
      "text/plain": [
       "Validation:   0%|          | 0/2 [00:00<?, ?it/s]"
      ]
     },
     "metadata": {},
     "output_type": "display_data"
    },
    {
     "name": "stdout",
     "output_type": "stream",
     "text": [
      "Validation Epoch 15, Val Loss: 15.395469665527344, Val Accuracy: 0.013888888888888888\n"
     ]
    },
    {
     "data": {
      "application/vnd.jupyter.widget-view+json": {
       "model_id": "5f80f41faa7c49849d4aec9951ef253f",
       "version_major": 2,
       "version_minor": 0
      },
      "text/plain": [
       "Testing:   0%|          | 0/1 [00:00<?, ?it/s]"
      ]
     },
     "metadata": {},
     "output_type": "display_data"
    },
    {
     "name": "stdout",
     "output_type": "stream",
     "text": [
      "Accuracy: 0.6111\n",
      "Precision: 0.5833\n",
      "Recall: 0.7778\n"
     ]
    },
    {
     "data": {
      "image/png": "[encoded data removed]",
      "text/plain": [
       "<Figure size 800x600 with 1 Axes>"
      ]
     },
     "metadata": {},
     "output_type": "display_data"
    }
   ],
   "source": [
    "weight = 3.0\n",
    "\n",
    "# Adjust the input size of the SimpleNN model\n",
    "input_size = X_train_tsne.shape[1]  # Number of components after LDA\n",
    "model = SimpleNN(input_size=input_size, hidden_size1=20, hidden_size2=10, hidden_size3=2, output_size=1)\n",
    "criterion = nn.BCEWithLogitsLoss(pos_weight=torch.Tensor([weight])) \n",
    "\n",
    "optimizer = optim.Adam(model.parameters(), lr=0.04910009)  # Add weight decay for L2 regularization\n",
    "\n",
    "# Learning rate scheduler\n",
    "scheduler = lr_scheduler.StepLR(optimizer, step_size=1, gamma=0.4)\n",
    "EPOCHS = 15\n",
    "# Training function\n",
    "# Modify the train function to work with the pipeline\n",
    "def train(train_loader, val_loader, criterion, optimizer, model, epochs=EPOCHS):\n",
    "    for epoch in range(epochs):\n",
    "        total_loss = 0\n",
    "        correct = 0\n",
    "        total_samples = 0\n",
    "        for batch in tqdm(train_loader, desc=f\"Training Epoch {epoch+1}\"):\n",
    "            inputs, labels = batch\n",
    "            optimizer.zero_grad()\n",
    "            outputs = model(inputs)\n",
    "            loss = criterion(outputs, labels.unsqueeze(1))\n",
    "            loss.backward()\n",
    "            optimizer.step()\n",
    "\n",
    "            total_loss += loss.item()\n",
    "\n",
    "            # Compute training accuracy\n",
    "            predicted = torch.round(outputs)\n",
    "            correct += (predicted == labels.unsqueeze(1)).sum().item()\n",
    "            total_samples += labels.size(0)\n",
    "\n",
    "        accuracy = correct / total_samples\n",
    "        print(f\"Training Epoch {epoch+1}, Loss: {total_loss / len(train_loader)}, Accuracy: {accuracy}%\")\n",
    "\n",
    "        validation(model, val_loader, criterion, epoch)\n",
    "\n",
    "\n",
    "# Evaluate function for validation\n",
    "def validation(model, val_loader, criterion, epoch):\n",
    "    model.eval()\n",
    "    total_loss = 0\n",
    "    correct = 0\n",
    "    total_samples = 0\n",
    "    with torch.no_grad():\n",
    "        for inputs, labels in tqdm(val_loader, desc=\"Validation\"):\n",
    "            outputs = model(inputs)\n",
    "            loss = criterion(outputs, labels.unsqueeze(1))\n",
    "            total_loss += loss.item()\n",
    "            predicted = torch.round(outputs)\n",
    "            correct += (predicted == labels.unsqueeze(1)).sum().item()\n",
    "            total_samples += labels.size(0)\n",
    "    accuracy = correct / total_samples\n",
    "    print(f\"Validation Epoch {epoch+1}, Val Loss: {total_loss / len(val_loader)}, Val Accuracy: {accuracy}\")\n",
    "\n",
    "# Evaluate function for testing\n",
    "# Update the test function\n",
    "def test(model, test_loader, criterion, threshold=0.5):\n",
    "    model.eval()\n",
    "    total_loss = 0\n",
    "    correct = 0\n",
    "    total_samples = 0\n",
    "    all_labels = []\n",
    "    all_predictions = []\n",
    "\n",
    "    with torch.no_grad():\n",
    "        for inputs, labels in tqdm(test_loader, desc=\"Testing\"):\n",
    "            outputs = model(inputs)\n",
    "            loss = criterion(outputs, labels.unsqueeze(1))\n",
    "            total_loss += loss.item()\n",
    "\n",
    "            # Convert probability outputs to binary predictions using the threshold\n",
    "            predicted = (outputs >= threshold).float()\n",
    "\n",
    "            correct += (predicted == labels.unsqueeze(1)).sum().item()\n",
    "            total_samples += labels.size(0)\n",
    "            \n",
    "            # Store labels and predictions for confusion matrix\n",
    "            all_labels.extend(labels.cpu().numpy())\n",
    "            all_predictions.extend(predicted.cpu().numpy())\n",
    "\n",
    "    accuracy = correct / total_samples\n",
    "    conf_matrix = confusion_matrix(all_labels, np.round(all_predictions))\n",
    "    # Calculate evaluation metrics\n",
    "    precision = precision_score(all_labels, np.round(all_predictions), zero_division=1)\n",
    "    recall = recall_score(all_labels, np.round(all_predictions))\n",
    "\n",
    "    \n",
    "   # Print the evaluation metrics\n",
    "    print(f'Accuracy: {accuracy:.4f}')\n",
    "    print(f'Precision: {precision:.4f}')\n",
    "    print(f'Recall: {recall:.4f}')\n",
    "    \n",
    "    print\n",
    "    # Plot confusion matrix using seaborn\n",
    "    plt.figure(figsize=(8, 6))\n",
    "    sns.heatmap(conf_matrix / total_samples * 100, annot=True, fmt='.2f', cmap='Blues', cbar=False,\n",
    "                xticklabels=['Predicted 0', 'Predicted 1'],\n",
    "                yticklabels=['Actual 0', 'Actual 1'])\n",
    "    plt.xlabel('Predicted')\n",
    "    plt.ylabel('Actual')\n",
    "    plt.title('Confusion Matrix (Percentage)')\n",
    "    plt.show()\n",
    "\n",
    "\n",
    "# Training loop\n",
    "train(train_loader, val_loader, criterion, optimizer, model, epochs=EPOCHS)\n",
    "\n",
    "# Testing\n",
    "test(model, test_loader, criterion, threshold=0.5)"
   ]
  },
  {
   "cell_type": "code",
   "execution_count": 14,
   "id": "a315fa21-ef77-4c34-9804-d3073a92a9cf",
   "metadata": {},
   "outputs": [
    {
     "name": "stdout",
     "output_type": "stream",
     "text": [
      "Epoch [10/300], Loss: 1.2947\n",
      "Epoch [20/300], Loss: 0.9145\n",
      "Epoch [30/300], Loss: 0.7384\n",
      "Epoch [40/300], Loss: 0.6643\n",
      "Epoch [50/300], Loss: 0.6264\n",
      "Epoch [60/300], Loss: 0.6041\n",
      "Epoch [70/300], Loss: 0.5899\n",
      "Epoch [80/300], Loss: 0.5806\n",
      "Epoch [90/300], Loss: 0.5741\n",
      "Epoch [100/300], Loss: 0.5696\n",
      "Epoch [110/300], Loss: 0.5663\n",
      "Epoch [120/300], Loss: 0.5638\n",
      "Epoch [130/300], Loss: 0.5619\n",
      "Epoch [140/300], Loss: 0.5604\n",
      "Epoch [150/300], Loss: 0.5593\n",
      "Epoch [160/300], Loss: 0.5583\n",
      "Epoch [170/300], Loss: 0.5575\n",
      "Epoch [180/300], Loss: 0.5569\n",
      "Epoch [190/300], Loss: 0.5563\n",
      "Epoch [200/300], Loss: 0.5558\n",
      "Epoch [210/300], Loss: 0.5554\n",
      "Epoch [220/300], Loss: 0.5550\n",
      "Epoch [230/300], Loss: 0.5546\n",
      "Epoch [240/300], Loss: 0.5543\n",
      "Epoch [250/300], Loss: 0.5539\n",
      "Epoch [260/300], Loss: 0.5536\n",
      "Epoch [270/300], Loss: 0.5533\n",
      "Epoch [280/300], Loss: 0.5531\n",
      "Epoch [290/300], Loss: 0.5528\n",
      "Epoch [300/300], Loss: 0.5526\n",
      "Accuracy: 0.6111\n",
      "Precision: 0.6000\n",
      "Recall: 0.6667\n"
     ]
    },
    {
     "data": {
      "image/png": "[encoded data removed]",
      "text/plain": [
       "<Figure size 640x480 with 1 Axes>"
      ]
     },
     "metadata": {},
     "output_type": "display_data"
    }
   ],
   "source": [
    "# Linear Regression\n",
    "\n",
    "# Assuming input_size is the number of features in your dataset\n",
    "input_size = X_train_tensor.shape[1]\n",
    "\n",
    "# Define a simple logistic regression model\n",
    "linear_model = nn.Linear(input_size, 1)\n",
    "sigmoid = nn.Sigmoid()\n",
    "\n",
    "# Loss function and optimizer\n",
    "criterion = nn.BCEWithLogitsLoss()  # Binary Cross Entropy Loss for binary classification\n",
    "optimizer = optim.SGD(linear_model.parameters(), lr=.0065)  # Set a fixed learning rate\n",
    "\n",
    "# Training loop\n",
    "epochs = 300\n",
    "for epoch in range(epochs):\n",
    "    # Forward pass\n",
    "    outputs = linear_model(X_train_tensor)\n",
    "    loss = criterion(outputs, y_train_tensor.unsqueeze(1))  # Ensure the shape matches\n",
    "\n",
    "    # Backward pass and optimization\n",
    "    optimizer.zero_grad()\n",
    "    loss.backward()\n",
    "    optimizer.step()\n",
    "\n",
    "    # Print loss every 10 epochs\n",
    "    if (epoch + 1) % 10 == 0:\n",
    "        print(f'Epoch [{epoch + 1}/{epochs}], Loss: {loss.item():.4f}')\n",
    "\n",
    "# After training, you can use the trained model to make predictions on the test set\n",
    "test_predictions = sigmoid(linear_model(X_test_tensor))\n",
    "\n",
    "# Convert probabilities to class labels (0 or 1)\n",
    "predicted_labels = (test_predictions >= 0.50).int()\n",
    "\n",
    "# Calculate evaluation metrics\n",
    "accuracy = accuracy_score(y_test_tensor.numpy().astype(int), predicted_labels.detach().numpy())\n",
    "precision = precision_score(y_test_tensor.numpy().astype(int), predicted_labels.detach().numpy(), zero_division=1)\n",
    "recall = recall_score(y_test_tensor.numpy().astype(int), predicted_labels.detach().numpy())\n",
    "\n",
    "# Print or use the metrics\n",
    "print(f'Accuracy: {accuracy:.4f}')\n",
    "print(f'Precision: {precision:.4f}')\n",
    "print(f'Recall: {recall:.4f}')\n",
    "\n",
    "# Create confusion matrix for the test set\n",
    "conf_matrix = confusion_matrix(y_test_tensor.numpy(), predicted_labels.detach().numpy())\n",
    "\n",
    "# Plot the confusion matrix using seaborn with percentages\n",
    "total_samples = len(y_test_tensor)\n",
    "sns.heatmap(conf_matrix / total_samples * 100, annot=True, fmt='.2f', cmap='Blues', cbar=False,\n",
    "            xticklabels=['Predicted 0', 'Predicted 1'],\n",
    "            yticklabels=['Actual 0', 'Actual 1'])\n",
    "plt.xlabel('Predicted')\n",
    "plt.ylabel('Actual')\n",
    "plt.title('Confusion Matrix (Percentage)')\n",
    "plt.show()\n"
   ]
  },
  {
   "cell_type": "code",
   "execution_count": 31,
   "id": "c476ea21-c3b6-4786-b110-76b0d92e3d37",
   "metadata": {},
   "outputs": [
    {
     "name": "stdout",
     "output_type": "stream",
     "text": [
      "Best Parameters: {'learning_rate': 0.3, 'max_depth': 3, 'n_estimators': 114, 'subsample': 1.0}\n",
      "Validation Accuracy: 0.3889\n",
      "Validation Precision: 0.3857\n",
      "Validation Recall: 0.9643\n",
      "Test Accuracy: 0.5000\n",
      "Test Precision: 0.5000\n",
      "Test Recall: 1.0000\n"
     ]
    },
    {
     "data": {
      "image/png": "[encoded data removed]",
      "text/plain": [
       "<Figure size 640x480 with 1 Axes>"
      ]
     },
     "metadata": {},
     "output_type": "display_data"
    }
   ],
   "source": [
    "# XGBoost\n",
    "\n",
    "# Convert data to NumPy arrays for XGBoost\n",
    "X_train_numpy = X_train_tensor.numpy()\n",
    "y_train_numpy = y_train_tensor.numpy()\n",
    "\n",
    "X_val_numpy = X_val_tensor.numpy()\n",
    "y_val_numpy = y_val_tensor.numpy()\n",
    "\n",
    "X_test_numpy = X_test_tensor.numpy()\n",
    "y_test_numpy = y_test_tensor.numpy()\n",
    "\n",
    "param_grid = {\n",
    "    'learning_rate': [ 0.30, 0.40, 0.50,0.60], #\n",
    "    'max_depth': [2 ,3, 4, 5 ,6], # -\n",
    "    'n_estimators': [114 ,116], #\n",
    "    'subsample': [0.8, 0.9, 1.0], #\n",
    "}\n",
    "\n",
    "# Create XGBoost classifier\n",
    "xgb_classifier = XGBClassifier()\n",
    "\n",
    "# Initialize GridSearchCV\n",
    "grid_search = GridSearchCV(estimator=xgb_classifier, param_grid=param_grid, cv=5, scoring='accuracy')\n",
    "\n",
    "# Fit the model to the training data\n",
    "grid_search.fit(X_train_numpy, y_train_numpy)\n",
    "\n",
    "# Fit the model to the training data using the best parameters\n",
    "best_xgb_classifier = grid_search.best_estimator_\n",
    "best_xgb_classifier.fit(X_train_numpy, y_train_numpy)\n",
    "\n",
    "# Get the best parameters from the grid search\n",
    "best_params = grid_search.best_params_\n",
    "print(\"Best Parameters:\", best_params)\n",
    "\n",
    "# Use the best model to make predictions on the validation set\n",
    "val_predictions = best_xgb_classifier.predict(X_val_numpy)\n",
    "\n",
    "# Calculate metrics on the validation set\n",
    "val_accuracy = accuracy_score(y_val_numpy, val_predictions)\n",
    "val_precision = precision_score(y_val_numpy, val_predictions)\n",
    "val_recall = recall_score(y_val_numpy, val_predictions)\n",
    "\n",
    "print(f'Validation Accuracy: {val_accuracy:.4f}')\n",
    "print(f'Validation Precision: {val_precision:.4f}')\n",
    "print(f'Validation Recall: {val_recall:.4f}')\n",
    "\n",
    "# Use the best model to make predictions on the test set\n",
    "test_predictions = best_xgb_classifier.predict(X_test_numpy)\n",
    "\n",
    "# Calculate metrics on the test set\n",
    "test_accuracy = accuracy_score(y_test_numpy, test_predictions)\n",
    "test_precision = precision_score(y_test_numpy, test_predictions)\n",
    "test_recall = recall_score(y_test_numpy, test_predictions)\n",
    "\n",
    "print(f'Test Accuracy: {test_accuracy:.4f}')\n",
    "print(f'Test Precision: {test_precision:.4f}')\n",
    "print(f'Test Recall: {test_recall:.4f}')\n",
    "\n",
    "# Create confusion matrix for the test set\n",
    "conf_matrix_XG = confusion_matrix(y_test_numpy, test_predictions)\n",
    "\n",
    "# Plot the confusion matrix using seaborn with percentages\n",
    "total_samples = len(y_test_tensor)\n",
    "sns.heatmap(conf_matrix_XG / total_samples * 100, annot=True, fmt='.2f', cmap='Blues', cbar=False,\n",
    "            xticklabels=['Predicted 0', 'Predicted 1'],\n",
    "            yticklabels=['Actual 0', 'Actual 1'])\n",
    "plt.xlabel('Predicted')\n",
    "plt.ylabel('Actual')\n",
    "plt.title('Confusion Matrix (Percentage)')\n",
    "plt.show()"
   ]
  },
  {
   "cell_type": "code",
   "execution_count": 16,
   "id": "3c2609bc-dd88-48ae-9726-c922e0b189b0",
   "metadata": {},
   "outputs": [
    {
     "data": {
      "image/svg+xml": [
       "<?xml version=\"1.0\" encoding=\"UTF-8\" standalone=\"no\"?>\n",
       "<!DOCTYPE svg PUBLIC \"-//W3C//DTD SVG 1.1//EN\"\n",
       " \"http://www.w3.org/Graphics/SVG/1.1/DTD/svg11.dtd\">\n",
       "<!-- Generated by graphviz version 9.0.0 (20230911.1827)\n",
       " -->\n",
       "<!-- Pages: 1 -->\n",
       "<svg width=\"1434pt\" height=\"398pt\"\n",
       " viewBox=\"0.00 0.00 1434.44 398.00\" xmlns=\"http://www.w3.org/2000/svg\" xmlns:xlink=\"http://www.w3.org/1999/xlink\">\n",
       "<g id=\"graph0\" class=\"graph\" transform=\"scale(1 1) rotate(0) translate(4 394)\">\n",
       "<polygon fill=\"white\" stroke=\"none\" points=\"-4,4 -4,-394 1430.44,-394 1430.44,4 -4,4\"/>\n",
       "<!-- 0 -->\n",
       "<g id=\"node1\" class=\"node\">\n",
       "<title>0</title>\n",
       "<ellipse fill=\"none\" stroke=\"black\" cx=\"945.38\" cy=\"-372\" rx=\"156.27\" ry=\"18\"/>\n",
       "<text text-anchor=\"middle\" x=\"945.38\" y=\"-366.95\" font-family=\"Times,serif\" font-size=\"14.00\">creatinine_phosphokinase&lt;4.51660633</text>\n",
       "</g>\n",
       "<!-- 1 -->\n",
       "<g id=\"node2\" class=\"node\">\n",
       "<title>1</title>\n",
       "<ellipse fill=\"none\" stroke=\"black\" cx=\"820.38\" cy=\"-283.5\" rx=\"76.43\" ry=\"18\"/>\n",
       "<text text-anchor=\"middle\" x=\"820.38\" y=\"-278.45\" font-family=\"Times,serif\" font-size=\"14.00\">age&lt;&#45;2.44185495</text>\n",
       "</g>\n",
       "<!-- 0&#45;&gt;1 -->\n",
       "<g id=\"edge1\" class=\"edge\">\n",
       "<title>0&#45;&gt;1</title>\n",
       "<path fill=\"none\" stroke=\"#0000ff\" d=\"M920.69,-353.91C901.44,-340.59 874.52,-321.96 853.42,-307.36\"/>\n",
       "<polygon fill=\"#0000ff\" stroke=\"#0000ff\" points=\"855.64,-304.64 845.42,-301.83 851.66,-310.4 855.64,-304.64\"/>\n",
       "<text text-anchor=\"middle\" x=\"928.51\" y=\"-322.7\" font-family=\"Times,serif\" font-size=\"14.00\">yes, missing</text>\n",
       "</g>\n",
       "<!-- 2 -->\n",
       "<g id=\"node3\" class=\"node\">\n",
       "<title>2</title>\n",
       "<ellipse fill=\"none\" stroke=\"black\" cx=\"1071.38\" cy=\"-283.5\" rx=\"156.27\" ry=\"18\"/>\n",
       "<text text-anchor=\"middle\" x=\"1071.38\" y=\"-278.45\" font-family=\"Times,serif\" font-size=\"14.00\">creatinine_phosphokinase&lt;5.67595816</text>\n",
       "</g>\n",
       "<!-- 0&#45;&gt;2 -->\n",
       "<g id=\"edge2\" class=\"edge\">\n",
       "<title>0&#45;&gt;2</title>\n",
       "<path fill=\"none\" stroke=\"#ff0000\" d=\"M970.28,-353.91C989.43,-340.76 1016.12,-322.44 1037.26,-307.92\"/>\n",
       "<polygon fill=\"#ff0000\" stroke=\"#ff0000\" points=\"1039.03,-310.96 1045.29,-302.41 1035.07,-305.19 1039.03,-310.96\"/>\n",
       "<text text-anchor=\"middle\" x=\"1027.13\" y=\"-322.7\" font-family=\"Times,serif\" font-size=\"14.00\">no</text>\n",
       "</g>\n",
       "<!-- 3 -->\n",
       "<g id=\"node4\" class=\"node\">\n",
       "<title>3</title>\n",
       "<ellipse fill=\"none\" stroke=\"black\" cx=\"525.38\" cy=\"-195\" rx=\"156.27\" ry=\"18\"/>\n",
       "<text text-anchor=\"middle\" x=\"525.38\" y=\"-189.95\" font-family=\"Times,serif\" font-size=\"14.00\">creatinine_phosphokinase&lt;2.03476667</text>\n",
       "</g>\n",
       "<!-- 1&#45;&gt;3 -->\n",
       "<g id=\"edge3\" class=\"edge\">\n",
       "<title>1&#45;&gt;3</title>\n",
       "<path fill=\"none\" stroke=\"#0000ff\" d=\"M773.96,-268.89C724.91,-254.5 647.11,-231.69 591.61,-215.42\"/>\n",
       "<polygon fill=\"#0000ff\" stroke=\"#0000ff\" points=\"592.86,-212.14 582.28,-212.68 590.89,-218.86 592.86,-212.14\"/>\n",
       "<text text-anchor=\"middle\" x=\"733.51\" y=\"-234.2\" font-family=\"Times,serif\" font-size=\"14.00\">yes, missing</text>\n",
       "</g>\n",
       "<!-- 4 -->\n",
       "<g id=\"node5\" class=\"node\">\n",
       "<title>4</title>\n",
       "<ellipse fill=\"none\" stroke=\"black\" cx=\"866.38\" cy=\"-195\" rx=\"91.78\" ry=\"18\"/>\n",
       "<text text-anchor=\"middle\" x=\"866.38\" y=\"-189.95\" font-family=\"Times,serif\" font-size=\"14.00\">anaemia&lt;6.31829834</text>\n",
       "</g>\n",
       "<!-- 1&#45;&gt;4 -->\n",
       "<g id=\"edge4\" class=\"edge\">\n",
       "<title>1&#45;&gt;4</title>\n",
       "<path fill=\"none\" stroke=\"#ff0000\" d=\"M829.47,-265.41C835.86,-253.4 844.53,-237.09 851.87,-223.3\"/>\n",
       "<polygon fill=\"#ff0000\" stroke=\"#ff0000\" points=\"854.84,-225.16 856.45,-214.69 848.66,-221.87 854.84,-225.16\"/>\n",
       "<text text-anchor=\"middle\" x=\"855.13\" y=\"-234.2\" font-family=\"Times,serif\" font-size=\"14.00\">no</text>\n",
       "</g>\n",
       "<!-- 5 -->\n",
       "<g id=\"node18\" class=\"node\">\n",
       "<title>5</title>\n",
       "<ellipse fill=\"none\" stroke=\"black\" cx=\"1063.38\" cy=\"-195\" rx=\"78.99\" ry=\"18\"/>\n",
       "<text text-anchor=\"middle\" x=\"1063.38\" y=\"-189.95\" font-family=\"Times,serif\" font-size=\"14.00\">leaf=0.531527519</text>\n",
       "</g>\n",
       "<!-- 2&#45;&gt;5 -->\n",
       "<g id=\"edge17\" class=\"edge\">\n",
       "<title>2&#45;&gt;5</title>\n",
       "<path fill=\"none\" stroke=\"#0000ff\" d=\"M1069.8,-265.41C1068.72,-253.76 1067.27,-238.05 1066.02,-224.52\"/>\n",
       "<polygon fill=\"#0000ff\" stroke=\"#0000ff\" points=\"1069.53,-224.49 1065.13,-214.86 1062.56,-225.14 1069.53,-224.49\"/>\n",
       "<text text-anchor=\"middle\" x=\"1102.51\" y=\"-234.2\" font-family=\"Times,serif\" font-size=\"14.00\">yes, missing</text>\n",
       "</g>\n",
       "<!-- 6 -->\n",
       "<g id=\"node19\" class=\"node\">\n",
       "<title>6</title>\n",
       "<ellipse fill=\"none\" stroke=\"black\" cx=\"1244.38\" cy=\"-195\" rx=\"83.6\" ry=\"18\"/>\n",
       "<text text-anchor=\"middle\" x=\"1244.38\" y=\"-189.95\" font-family=\"Times,serif\" font-size=\"14.00\">leaf=0.0532419495</text>\n",
       "</g>\n",
       "<!-- 2&#45;&gt;6 -->\n",
       "<g id=\"edge18\" class=\"edge\">\n",
       "<title>2&#45;&gt;6</title>\n",
       "<path fill=\"none\" stroke=\"#ff0000\" d=\"M1105.15,-265.62C1132.95,-251.72 1172.49,-231.95 1202.34,-217.02\"/>\n",
       "<polygon fill=\"#ff0000\" stroke=\"#ff0000\" points=\"1203.72,-220.24 1211.1,-212.64 1200.59,-213.98 1203.72,-220.24\"/>\n",
       "<text text-anchor=\"middle\" x=\"1179.13\" y=\"-234.2\" font-family=\"Times,serif\" font-size=\"14.00\">no</text>\n",
       "</g>\n",
       "<!-- 7 -->\n",
       "<g id=\"node6\" class=\"node\">\n",
       "<title>7</title>\n",
       "<ellipse fill=\"none\" stroke=\"black\" cx=\"248.38\" cy=\"-106.5\" rx=\"94.86\" ry=\"18\"/>\n",
       "<text text-anchor=\"middle\" x=\"248.38\" y=\"-101.45\" font-family=\"Times,serif\" font-size=\"14.00\">anaemia&lt;&#45;5.90356064</text>\n",
       "</g>\n",
       "<!-- 3&#45;&gt;7 -->\n",
       "<g id=\"edge5\" class=\"edge\">\n",
       "<title>3&#45;&gt;7</title>\n",
       "<path fill=\"none\" stroke=\"#0000ff\" d=\"M472.96,-177.63C425.56,-162.83 355.9,-141.07 306.75,-125.73\"/>\n",
       "<polygon fill=\"#0000ff\" stroke=\"#0000ff\" points=\"308.01,-122.45 297.42,-122.81 305.92,-129.13 308.01,-122.45\"/>\n",
       "<text text-anchor=\"middle\" x=\"446.51\" y=\"-145.7\" font-family=\"Times,serif\" font-size=\"14.00\">yes, missing</text>\n",
       "</g>\n",
       "<!-- 8 -->\n",
       "<g id=\"node7\" class=\"node\">\n",
       "<title>8</title>\n",
       "<ellipse fill=\"none\" stroke=\"black\" cx=\"525.38\" cy=\"-106.5\" rx=\"156.27\" ry=\"18\"/>\n",
       "<text text-anchor=\"middle\" x=\"525.38\" y=\"-101.45\" font-family=\"Times,serif\" font-size=\"14.00\">creatinine_phosphokinase&lt;2.50566196</text>\n",
       "</g>\n",
       "<!-- 3&#45;&gt;8 -->\n",
       "<g id=\"edge6\" class=\"edge\">\n",
       "<title>3&#45;&gt;8</title>\n",
       "<path fill=\"none\" stroke=\"#ff0000\" d=\"M525.38,-176.91C525.38,-165.26 525.38,-149.55 525.38,-136.02\"/>\n",
       "<polygon fill=\"#ff0000\" stroke=\"#ff0000\" points=\"528.88,-136.36 525.38,-126.36 521.88,-136.36 528.88,-136.36\"/>\n",
       "<text text-anchor=\"middle\" x=\"532.13\" y=\"-145.7\" font-family=\"Times,serif\" font-size=\"14.00\">no</text>\n",
       "</g>\n",
       "<!-- 9 -->\n",
       "<g id=\"node12\" class=\"node\">\n",
       "<title>9</title>\n",
       "<ellipse fill=\"none\" stroke=\"black\" cx=\"866.38\" cy=\"-106.5\" rx=\"91.78\" ry=\"18\"/>\n",
       "<text text-anchor=\"middle\" x=\"866.38\" y=\"-101.45\" font-family=\"Times,serif\" font-size=\"14.00\">anaemia&lt;4.42376041</text>\n",
       "</g>\n",
       "<!-- 4&#45;&gt;9 -->\n",
       "<g id=\"edge11\" class=\"edge\">\n",
       "<title>4&#45;&gt;9</title>\n",
       "<path fill=\"none\" stroke=\"#0000ff\" d=\"M866.38,-176.91C866.38,-165.26 866.38,-149.55 866.38,-136.02\"/>\n",
       "<polygon fill=\"#0000ff\" stroke=\"#0000ff\" points=\"869.88,-136.36 866.38,-126.36 862.88,-136.36 869.88,-136.36\"/>\n",
       "<text text-anchor=\"middle\" x=\"900.51\" y=\"-145.7\" font-family=\"Times,serif\" font-size=\"14.00\">yes, missing</text>\n",
       "</g>\n",
       "<!-- 10 -->\n",
       "<g id=\"node13\" class=\"node\">\n",
       "<title>10</title>\n",
       "<ellipse fill=\"none\" stroke=\"black\" cx=\"1157.38\" cy=\"-106.5\" rx=\"73.36\" ry=\"18\"/>\n",
       "<text text-anchor=\"middle\" x=\"1157.38\" y=\"-101.45\" font-family=\"Times,serif\" font-size=\"14.00\">age&lt;4.58424139</text>\n",
       "</g>\n",
       "<!-- 4&#45;&gt;10 -->\n",
       "<g id=\"edge12\" class=\"edge\">\n",
       "<title>4&#45;&gt;10</title>\n",
       "<path fill=\"none\" stroke=\"#ff0000\" d=\"M915.42,-179.42C966.79,-164.15 1047.36,-140.2 1101.24,-124.19\"/>\n",
       "<polygon fill=\"#ff0000\" stroke=\"#ff0000\" points=\"1101.94,-127.63 1110.53,-121.43 1099.95,-120.92 1101.94,-127.63\"/>\n",
       "<text text-anchor=\"middle\" x=\"1045.13\" y=\"-145.7\" font-family=\"Times,serif\" font-size=\"14.00\">no</text>\n",
       "</g>\n",
       "<!-- 11 -->\n",
       "<g id=\"node8\" class=\"node\">\n",
       "<title>11</title>\n",
       "<ellipse fill=\"none\" stroke=\"black\" cx=\"74.38\" cy=\"-18\" rx=\"74.38\" ry=\"18\"/>\n",
       "<text text-anchor=\"middle\" x=\"74.38\" y=\"-12.95\" font-family=\"Times,serif\" font-size=\"14.00\">leaf=0.28979975</text>\n",
       "</g>\n",
       "<!-- 7&#45;&gt;11 -->\n",
       "<g id=\"edge7\" class=\"edge\">\n",
       "<title>7&#45;&gt;11</title>\n",
       "<path fill=\"none\" stroke=\"#0000ff\" d=\"M214.51,-89.24C202.38,-83.38 188.62,-76.69 176.13,-70.5 156.02,-60.54 133.76,-49.3 115.21,-39.87\"/>\n",
       "<polygon fill=\"#0000ff\" stroke=\"#0000ff\" points=\"116.88,-36.79 106.38,-35.38 113.71,-43.03 116.88,-36.79\"/>\n",
       "<text text-anchor=\"middle\" x=\"210.51\" y=\"-57.2\" font-family=\"Times,serif\" font-size=\"14.00\">yes, missing</text>\n",
       "</g>\n",
       "<!-- 12 -->\n",
       "<g id=\"node9\" class=\"node\">\n",
       "<title>12</title>\n",
       "<ellipse fill=\"none\" stroke=\"black\" cx=\"248.38\" cy=\"-18\" rx=\"82.06\" ry=\"18\"/>\n",
       "<text text-anchor=\"middle\" x=\"248.38\" y=\"-12.95\" font-family=\"Times,serif\" font-size=\"14.00\">leaf=&#45;0.232968315</text>\n",
       "</g>\n",
       "<!-- 7&#45;&gt;12 -->\n",
       "<g id=\"edge8\" class=\"edge\">\n",
       "<title>7&#45;&gt;12</title>\n",
       "<path fill=\"none\" stroke=\"#ff0000\" d=\"M248.38,-88.41C248.38,-76.76 248.38,-61.05 248.38,-47.52\"/>\n",
       "<polygon fill=\"#ff0000\" stroke=\"#ff0000\" points=\"251.88,-47.86 248.38,-37.86 244.88,-47.86 251.88,-47.86\"/>\n",
       "<text text-anchor=\"middle\" x=\"255.13\" y=\"-57.2\" font-family=\"Times,serif\" font-size=\"14.00\">no</text>\n",
       "</g>\n",
       "<!-- 13 -->\n",
       "<g id=\"node10\" class=\"node\">\n",
       "<title>13</title>\n",
       "<ellipse fill=\"none\" stroke=\"black\" cx=\"430.38\" cy=\"-18\" rx=\"82.06\" ry=\"18\"/>\n",
       "<text text-anchor=\"middle\" x=\"430.38\" y=\"-12.95\" font-family=\"Times,serif\" font-size=\"14.00\">leaf=&#45;0.662329078</text>\n",
       "</g>\n",
       "<!-- 8&#45;&gt;13 -->\n",
       "<g id=\"edge9\" class=\"edge\">\n",
       "<title>8&#45;&gt;13</title>\n",
       "<path fill=\"none\" stroke=\"#0000ff\" d=\"M506.61,-88.41C492.47,-75.53 472.88,-57.7 457.1,-43.33\"/>\n",
       "<polygon fill=\"#0000ff\" stroke=\"#0000ff\" points=\"459.66,-40.92 449.91,-36.78 454.95,-46.1 459.66,-40.92\"/>\n",
       "<text text-anchor=\"middle\" x=\"521.51\" y=\"-57.2\" font-family=\"Times,serif\" font-size=\"14.00\">yes, missing</text>\n",
       "</g>\n",
       "<!-- 14 -->\n",
       "<g id=\"node11\" class=\"node\">\n",
       "<title>14</title>\n",
       "<ellipse fill=\"none\" stroke=\"black\" cx=\"612.38\" cy=\"-18\" rx=\"82.06\" ry=\"18\"/>\n",
       "<text text-anchor=\"middle\" x=\"612.38\" y=\"-12.95\" font-family=\"Times,serif\" font-size=\"14.00\">leaf=&#45;0.135796711</text>\n",
       "</g>\n",
       "<!-- 8&#45;&gt;14 -->\n",
       "<g id=\"edge10\" class=\"edge\">\n",
       "<title>8&#45;&gt;14</title>\n",
       "<path fill=\"none\" stroke=\"#ff0000\" d=\"M542.57,-88.41C555.32,-75.73 572.9,-58.25 587.23,-44.01\"/>\n",
       "<polygon fill=\"#ff0000\" stroke=\"#ff0000\" points=\"589.53,-46.65 594.16,-37.12 584.6,-41.69 589.53,-46.65\"/>\n",
       "<text text-anchor=\"middle\" x=\"584.13\" y=\"-57.2\" font-family=\"Times,serif\" font-size=\"14.00\">no</text>\n",
       "</g>\n",
       "<!-- 15 -->\n",
       "<g id=\"node14\" class=\"node\">\n",
       "<title>15</title>\n",
       "<ellipse fill=\"none\" stroke=\"black\" cx=\"799.38\" cy=\"-18\" rx=\"86.67\" ry=\"18\"/>\n",
       "<text text-anchor=\"middle\" x=\"799.38\" y=\"-12.95\" font-family=\"Times,serif\" font-size=\"14.00\">leaf=&#45;0.0502178967</text>\n",
       "</g>\n",
       "<!-- 9&#45;&gt;15 -->\n",
       "<g id=\"edge13\" class=\"edge\">\n",
       "<title>9&#45;&gt;15</title>\n",
       "<path fill=\"none\" stroke=\"#0000ff\" d=\"M853.15,-88.41C843.51,-75.97 830.29,-58.91 819.37,-44.81\"/>\n",
       "<polygon fill=\"#0000ff\" stroke=\"#0000ff\" points=\"822.41,-43.01 813.52,-37.25 816.88,-47.3 822.41,-43.01\"/>\n",
       "<text text-anchor=\"middle\" x=\"873.51\" y=\"-57.2\" font-family=\"Times,serif\" font-size=\"14.00\">yes, missing</text>\n",
       "</g>\n",
       "<!-- 16 -->\n",
       "<g id=\"node15\" class=\"node\">\n",
       "<title>16</title>\n",
       "<ellipse fill=\"none\" stroke=\"black\" cx=\"978.38\" cy=\"-18\" rx=\"74.38\" ry=\"18\"/>\n",
       "<text text-anchor=\"middle\" x=\"978.38\" y=\"-12.95\" font-family=\"Times,serif\" font-size=\"14.00\">leaf=0.53876996</text>\n",
       "</g>\n",
       "<!-- 9&#45;&gt;16 -->\n",
       "<g id=\"edge14\" class=\"edge\">\n",
       "<title>9&#45;&gt;16</title>\n",
       "<path fill=\"none\" stroke=\"#ff0000\" d=\"M888.24,-88.62C905.23,-75.49 929.01,-57.13 947.87,-42.56\"/>\n",
       "<polygon fill=\"#ff0000\" stroke=\"#ff0000\" points=\"949.98,-45.35 955.76,-36.47 945.71,-39.81 949.98,-45.35\"/>\n",
       "<text text-anchor=\"middle\" x=\"940.13\" y=\"-57.2\" font-family=\"Times,serif\" font-size=\"14.00\">no</text>\n",
       "</g>\n",
       "<!-- 17 -->\n",
       "<g id=\"node16\" class=\"node\">\n",
       "<title>17</title>\n",
       "<ellipse fill=\"none\" stroke=\"black\" cx=\"1157.38\" cy=\"-18\" rx=\"86.67\" ry=\"18\"/>\n",
       "<text text-anchor=\"middle\" x=\"1157.38\" y=\"-12.95\" font-family=\"Times,serif\" font-size=\"14.00\">leaf=&#45;0.0257485975</text>\n",
       "</g>\n",
       "<!-- 10&#45;&gt;17 -->\n",
       "<g id=\"edge15\" class=\"edge\">\n",
       "<title>10&#45;&gt;17</title>\n",
       "<path fill=\"none\" stroke=\"#0000ff\" d=\"M1157.38,-88.41C1157.38,-76.76 1157.38,-61.05 1157.38,-47.52\"/>\n",
       "<polygon fill=\"#0000ff\" stroke=\"#0000ff\" points=\"1160.88,-47.86 1157.38,-37.86 1153.88,-47.86 1160.88,-47.86\"/>\n",
       "<text text-anchor=\"middle\" x=\"1191.51\" y=\"-57.2\" font-family=\"Times,serif\" font-size=\"14.00\">yes, missing</text>\n",
       "</g>\n",
       "<!-- 18 -->\n",
       "<g id=\"node17\" class=\"node\">\n",
       "<title>18</title>\n",
       "<ellipse fill=\"none\" stroke=\"black\" cx=\"1344.38\" cy=\"-18\" rx=\"82.06\" ry=\"18\"/>\n",
       "<text text-anchor=\"middle\" x=\"1344.38\" y=\"-12.95\" font-family=\"Times,serif\" font-size=\"14.00\">leaf=&#45;0.296929121</text>\n",
       "</g>\n",
       "<!-- 10&#45;&gt;18 -->\n",
       "<g id=\"edge16\" class=\"edge\">\n",
       "<title>10&#45;&gt;18</title>\n",
       "<path fill=\"none\" stroke=\"#ff0000\" d=\"M1190.81,-90.04C1221.24,-75.96 1266.39,-55.08 1299.87,-39.59\"/>\n",
       "<polygon fill=\"#ff0000\" stroke=\"#ff0000\" points=\"1301.31,-42.78 1308.92,-35.4 1298.37,-36.43 1301.31,-42.78\"/>\n",
       "<text text-anchor=\"middle\" x=\"1274.13\" y=\"-57.2\" font-family=\"Times,serif\" font-size=\"14.00\">no</text>\n",
       "</g>\n",
       "</g>\n",
       "</svg>\n"
      ],
      "text/plain": [
       "<graphviz.sources.Source at 0x14ad12010>"
      ]
     },
     "execution_count": 16,
     "metadata": {},
     "output_type": "execute_result"
    }
   ],
   "source": [
    "\n",
    "tree_index = 10\n",
    "\n",
    "# Get the DOT data for the chosen tree with feature names\n",
    "dot_data = xgb.to_graphviz(best_xgb_classifier, num_trees=tree_index, feature_names=features).source\n",
    "\n",
    "# Replace the default feature names in the DOT data\n",
    "for feature_name in features:\n",
    "    dot_data = dot_data.replace(f'f{features.get_loc(feature_name)}', feature_name)\n",
    "\n",
    "# Display the decision tree directly in the notebook\n",
    "Source(dot_data)"
   ]
  },
  {
   "cell_type": "code",
   "execution_count": 17,
   "id": "59a822b4-72e1-4bd5-92aa-199517762ef3",
   "metadata": {},
   "outputs": [
    {
     "name": "stdout",
     "output_type": "stream",
     "text": [
      "Best Parameters: {'C': 4, 'gamma': 0.2, 'kernel': 'poly'}\n",
      "Accuracy: 0.6111\n",
      "Precision: 0.6250\n",
      "Recall: 0.5556\n"
     ]
    }
   ],
   "source": [
    "# SVM\n",
    "# Define the parameter grid\n",
    "param_grid = {'C': [ 3,4,5], 'gamma': [0.1,0.2, 0.25,.001], 'kernel': ['linear', 'poly', 'sigmoid']}\n",
    "\n",
    "# Initialize SVM classifier\n",
    "svm_classifier = SVC(random_state=42)\n",
    "\n",
    "# Initialize GridSearchCV\n",
    "grid_search = GridSearchCV(estimator=svm_classifier, param_grid=param_grid, cv=10, scoring='accuracy')\n",
    "\n",
    "# Fit the grid search to the data\n",
    "grid_search.fit(X_train_tsne, y_train)\n",
    "\n",
    "# Get the best parameters\n",
    "best_params = grid_search.best_params_\n",
    "\n",
    "print(f'Best Parameters: {best_params}')\n",
    "\n",
    "# Use the best model for predictions\n",
    "best_svm_classifier = grid_search.best_estimator_\n",
    "y_pred = best_svm_classifier.predict(X_test_tsne)\n",
    "\n",
    "# Calculate evaluation metrics\n",
    "accuracy = accuracy_score(y_test_numpy, y_pred)\n",
    "precision = precision_score(y_test_numpy, y_pred, zero_division=1)\n",
    "recall = recall_score(y_test_numpy, y_pred)\n",
    "\n",
    "# Output the metrics\n",
    "print(f'Accuracy: {accuracy:.4f}')\n",
    "print(f'Precision: {precision:.4f}')\n",
    "print(f'Recall: {recall:.4f}')\n",
    "\n",
    "conf_matrix_SVM = confusion_matrix(y_test_numpy, y_pred)\n",
    "\n",
    "\n"
   ]
  },
  {
   "cell_type": "code",
   "execution_count": 18,
   "id": "c1703577-824c-4eeb-8fd9-50db25af430d",
   "metadata": {
    "tags": []
   },
   "outputs": [
    {
     "data": {
      "image/png": "[encoded data removed]",
      "text/plain": [
       "<Figure size 640x480 with 1 Axes>"
      ]
     },
     "metadata": {},
     "output_type": "display_data"
    }
   ],
   "source": [
    "# Plot confusion matrix using seaborn\n",
    "# conf_matrix_percentage = conf_matrix / len(y_test) * 100\n",
    "\n",
    "sns.heatmap(conf_matrix_SVM / len(y_test_numpy) * 100, annot=True, fmt='.2f', cmap='Blues', cbar=False,\n",
    "            xticklabels=['Predicted 0', 'Predicted 1'],\n",
    "            yticklabels=['Actual 0', 'Actual 1'])\n",
    "plt.xlabel('Predicted')\n",
    "plt.ylabel('Actual')\n",
    "plt.title('Confusion Matrix (Percentage)')\n",
    "plt.show()"
   ]
  }
 ],
 "metadata": {
  "kernelspec": {
   "display_name": "Python",
   "language": "python",
   "name": "your_env_name"
  },
  "language_info": {
   "codemirror_mode": {
    "name": "ipython",
    "version": 3
   },
   "file_extension": ".py",
   "mimetype": "text/x-python",
   "name": "python",
   "nbconvert_exporter": "python",
   "pygments_lexer": "ipython3",
   "version": "3.11.4"
  }
 },
 "nbformat": 4,
 "nbformat_minor": 5
}
